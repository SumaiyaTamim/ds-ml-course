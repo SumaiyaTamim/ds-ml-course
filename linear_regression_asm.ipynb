{
 "cells": [
  {
   "attachments": {
    "e7315324-f8f0-4f0c-af6a-1377a86d4552.png": {
     "image/png": "[encoded data removed]"
    }
   },
   "cell_type": "markdown",
   "id": "5e47148f-732c-42af-8d88-d78a63ca53d7",
   "metadata": {},
   "source": [
    "![image.png](attachment:e7315324-f8f0-4f0c-af6a-1377a86d4552.png)"
   ]
  },
  {
   "cell_type": "markdown",
   "id": "e3fe7b79-51c8-4f0d-a0c1-40ff9c018e98",
   "metadata": {},
   "source": [
    "**Task 01:**\n",
    "Your objective is to manually compute the slope (M) and y-intercept (C) using\n",
    "Ordinary Least Squares Linear Regression. Once determined, apply these values to\n",
    "predict the price when the vegetable weight is 6.50"
   ]
  },
  {
   "cell_type": "code",
   "execution_count": 1,
   "id": "c3951392-dd2b-43f3-96b5-0ff95de96901",
   "metadata": {},
   "outputs": [],
   "source": [
    "import pandas as pd\n",
    "import numpy as np"
   ]
  },
  {
   "cell_type": "code",
   "execution_count": 2,
   "id": "fff9cff9-365a-45bf-8216-9a53c8aee6f8",
   "metadata": {},
   "outputs": [],
   "source": [
    "x = np.array([2,4,5,3,6,5,7])\n",
    "y = np.array([35,60,20,50,50,55,60])"
   ]
  },
  {
   "cell_type": "code",
   "execution_count": 3,
   "id": "a4dc745e-e89f-4cf8-ac2b-df49e84f7da0",
   "metadata": {},
   "outputs": [
    {
     "name": "stdout",
     "output_type": "stream",
     "text": [
      "slope: 2.620967741935484\n",
      "y-intercept: 35.16129032258065\n",
      "price when the vegetable weight is 6.50: 52.197580645161295\n"
     ]
    }
   ],
   "source": [
    "n = len(x)\n",
    "sum_x = np.sum(x)\n",
    "sum_y = np.sum(y)\n",
    "sum_xy = np.sum(x*y)\n",
    "sum_x2 = np.sum(x**2)\n",
    "M = (n*sum_xy - sum_x*sum_y)/(n*sum_x2 - sum_x**2)\n",
    "print(f\"slope: {M}\")\n",
    "C = (sum_y - M*sum_x)/n\n",
    "print(f\"y-intercept: {C}\")\n",
    "price = M*6.50 + C\n",
    "print(f\"price when the vegetable weight is 6.50: {price}\")"
   ]
  },
  {
   "cell_type": "markdown",
   "id": "d9650705-8267-4d1d-b152-287b57521d17",
   "metadata": {},
   "source": [
    "**Task 02:**\n",
    "Compute the residuals for each data point."
   ]
  },
  {
   "cell_type": "code",
   "execution_count": 4,
   "id": "6af902be-1519-4da6-a81c-1834cf4bf326",
   "metadata": {},
   "outputs": [
    {
     "name": "stdout",
     "output_type": "stream",
     "text": [
      "residuals for each data point: -5.403225806451616, 14.354838709677416, -28.266129032258064, 6.975806451612897, -0.8870967741935516, 6.733870967741936, 6.491935483870961\n"
     ]
    }
   ],
   "source": [
    "# prediction for each data point\n",
    "y1 = M*2 + C\n",
    "y2 = M*4 + C\n",
    "y3 = M*5 + C\n",
    "y4 = M*3 + C\n",
    "y5 = M*6 + C\n",
    "y6 = M*5 + C\n",
    "y7 = M*7 + C\n",
    "# residual for each data point\n",
    "e1 = 35 - y1\n",
    "e2 = 60 - y2\n",
    "e3 = 20 - y3\n",
    "e4 = 50 - y4\n",
    "e5 = 50 - y5\n",
    "e6 = 55 - y6\n",
    "e7 = 60 - y7\n",
    "\n",
    "print(f\"residuals for each data point: {e1}, {e2}, {e3}, {e4}, {e5}, {e6}, {e7}\")"
   ]
  },
  {
   "cell_type": "markdown",
   "id": "2533d16b-99e1-4430-8574-1c126ee28d26",
   "metadata": {},
   "source": [
    "**Task 03:**\n",
    "Calculate both the Mean Squared Error (MSE) and Mean Absolute Error (MAE)."
   ]
  },
  {
   "cell_type": "code",
   "execution_count": 5,
   "id": "2ade7d5c-de58-45f6-8c92-e04c846f046e",
   "metadata": {},
   "outputs": [
    {
     "name": "stdout",
     "output_type": "stream",
     "text": [
      "Mean Squared Error(MSE): 167.42232793221345, Mean Absolute Error(MAE): 9.87327188940092\n"
     ]
    }
   ],
   "source": [
    "MSE = (e1**2+e2**2+e3**2+e4**2+e5**2+e5**2+e6**2+e7**2)/n\n",
    "MAE = (abs(e1)+abs(e2)+abs(e3)+abs(e4)+abs(e5)+abs(e6)+abs(e7))/n\n",
    "print(f\"Mean Squared Error(MSE): {MSE}, Mean Absolute Error(MAE): {MAE}\")"
   ]
  },
  {
   "cell_type": "markdown",
   "id": "92d25ea3-5f3c-4101-8f15-8dfe2ddb5374",
   "metadata": {},
   "source": [
    "**Final Task:**\n",
    "Generate an Excel file for the given dataset. Utilize Python for all the calculations."
   ]
  },
  {
   "cell_type": "code",
   "execution_count": 6,
   "id": "7c6ce1cc-44d1-4c96-bf0d-69bc7cc3d09e",
   "metadata": {},
   "outputs": [
    {
     "data": {
      "text/html": [
       "<div>\n",
       "<style scoped>\n",
       "    .dataframe tbody tr th:only-of-type {\n",
       "        vertical-align: middle;\n",
       "    }\n",
       "\n",
       "    .dataframe tbody tr th {\n",
       "        vertical-align: top;\n",
       "    }\n",
       "\n",
       "    .dataframe thead th {\n",
       "        text-align: right;\n",
       "    }\n",
       "</style>\n",
       "<table border=\"1\" class=\"dataframe\">\n",
       "  <thead>\n",
       "    <tr style=\"text-align: right;\">\n",
       "      <th></th>\n",
       "      <th>Weight</th>\n",
       "      <th>Price</th>\n",
       "    </tr>\n",
       "  </thead>\n",
       "  <tbody>\n",
       "    <tr>\n",
       "      <th>0</th>\n",
       "      <td>2</td>\n",
       "      <td>35</td>\n",
       "    </tr>\n",
       "    <tr>\n",
       "      <th>1</th>\n",
       "      <td>4</td>\n",
       "      <td>60</td>\n",
       "    </tr>\n",
       "    <tr>\n",
       "      <th>2</th>\n",
       "      <td>5</td>\n",
       "      <td>20</td>\n",
       "    </tr>\n",
       "    <tr>\n",
       "      <th>3</th>\n",
       "      <td>3</td>\n",
       "      <td>50</td>\n",
       "    </tr>\n",
       "    <tr>\n",
       "      <th>4</th>\n",
       "      <td>6</td>\n",
       "      <td>50</td>\n",
       "    </tr>\n",
       "    <tr>\n",
       "      <th>5</th>\n",
       "      <td>5</td>\n",
       "      <td>55</td>\n",
       "    </tr>\n",
       "    <tr>\n",
       "      <th>6</th>\n",
       "      <td>7</td>\n",
       "      <td>60</td>\n",
       "    </tr>\n",
       "  </tbody>\n",
       "</table>\n",
       "</div>"
      ],
      "text/plain": [
       "   Weight  Price\n",
       "0       2     35\n",
       "1       4     60\n",
       "2       5     20\n",
       "3       3     50\n",
       "4       6     50\n",
       "5       5     55\n",
       "6       7     60"
      ]
     },
     "execution_count": 6,
     "metadata": {},
     "output_type": "execute_result"
    }
   ],
   "source": [
    "data = {'Weight': [2, 4, 5, 3, 6, 5, 7],\n",
    "       'Price': [35, 60, 20, 50, 50, 55, 60]}\n",
    "df = pd.DataFrame(data)\n",
    "df"
   ]
  },
  {
   "cell_type": "code",
   "execution_count": 7,
   "id": "959915c8-2282-408d-9b68-a9a977537d34",
   "metadata": {},
   "outputs": [
    {
     "name": "stdout",
     "output_type": "stream",
     "text": [
      "   Weight\n",
      "0       2\n",
      "1       4\n",
      "2       5\n",
      "3       3\n",
      "4       6\n",
      "5       5\n",
      "6       7\n",
      "0    35\n",
      "1    60\n",
      "2    20\n",
      "3    50\n",
      "4    50\n",
      "5    55\n",
      "6    60\n",
      "Name: Price, dtype: int64\n"
     ]
    }
   ],
   "source": [
    "# Libraries like scikit-learn expect features (X) as a 2D array (even if just one feature) and target (y) as a 1D array.\n",
    "X = df[['Weight']]  \n",
    "print(X)\n",
    "y = df['Price']  \n",
    "print(y)"
   ]
  },
  {
   "cell_type": "code",
   "execution_count": 8,
   "id": "225691ff-f695-4aed-a09e-99efa7bf1f53",
   "metadata": {},
   "outputs": [
    {
     "name": "stdout",
     "output_type": "stream",
     "text": [
      "slope: [2.62096774]\n",
      "y intercept: 35.16129032258065\n"
     ]
    }
   ],
   "source": [
    "from sklearn.linear_model import LinearRegression\n",
    "model = LinearRegression().fit(X, y)\n",
    "slope_sklearn = model.coef_\n",
    "print(f\"slope: {slope_sklearn}\")\n",
    "intercept_sklearn = model.intercept_\n",
    "print(f\"y intercept: {intercept_sklearn}\")"
   ]
  },
  {
   "cell_type": "code",
   "execution_count": 9,
   "id": "b52c4e24-69cf-4921-b589-d6adeb33d6fa",
   "metadata": {},
   "outputs": [
    {
     "data": {
      "text/plain": [
       "array([40.40322581, 45.64516129, 48.26612903, 43.02419355, 50.88709677,\n",
       "       48.26612903, 53.50806452])"
      ]
     },
     "execution_count": 9,
     "metadata": {},
     "output_type": "execute_result"
    }
   ],
   "source": [
    "model.predict(X)"
   ]
  },
  {
   "cell_type": "code",
   "execution_count": 10,
   "id": "c947c35f-7590-4d78-a183-aaeb7014b21d",
   "metadata": {},
   "outputs": [
    {
     "data": {
      "text/html": [
       "<div>\n",
       "<style scoped>\n",
       "    .dataframe tbody tr th:only-of-type {\n",
       "        vertical-align: middle;\n",
       "    }\n",
       "\n",
       "    .dataframe tbody tr th {\n",
       "        vertical-align: top;\n",
       "    }\n",
       "\n",
       "    .dataframe thead th {\n",
       "        text-align: right;\n",
       "    }\n",
       "</style>\n",
       "<table border=\"1\" class=\"dataframe\">\n",
       "  <thead>\n",
       "    <tr style=\"text-align: right;\">\n",
       "      <th></th>\n",
       "      <th>x</th>\n",
       "      <th>y</th>\n",
       "      <th>y_hat</th>\n",
       "    </tr>\n",
       "  </thead>\n",
       "  <tbody>\n",
       "    <tr>\n",
       "      <th>0</th>\n",
       "      <td>2</td>\n",
       "      <td>35</td>\n",
       "      <td>40.403226</td>\n",
       "    </tr>\n",
       "    <tr>\n",
       "      <th>1</th>\n",
       "      <td>4</td>\n",
       "      <td>60</td>\n",
       "      <td>45.645161</td>\n",
       "    </tr>\n",
       "    <tr>\n",
       "      <th>2</th>\n",
       "      <td>5</td>\n",
       "      <td>20</td>\n",
       "      <td>48.266129</td>\n",
       "    </tr>\n",
       "    <tr>\n",
       "      <th>3</th>\n",
       "      <td>3</td>\n",
       "      <td>50</td>\n",
       "      <td>43.024194</td>\n",
       "    </tr>\n",
       "    <tr>\n",
       "      <th>4</th>\n",
       "      <td>6</td>\n",
       "      <td>50</td>\n",
       "      <td>50.887097</td>\n",
       "    </tr>\n",
       "    <tr>\n",
       "      <th>5</th>\n",
       "      <td>5</td>\n",
       "      <td>55</td>\n",
       "      <td>48.266129</td>\n",
       "    </tr>\n",
       "    <tr>\n",
       "      <th>6</th>\n",
       "      <td>7</td>\n",
       "      <td>60</td>\n",
       "      <td>53.508065</td>\n",
       "    </tr>\n",
       "  </tbody>\n",
       "</table>\n",
       "</div>"
      ],
      "text/plain": [
       "   x   y      y_hat\n",
       "0  2  35  40.403226\n",
       "1  4  60  45.645161\n",
       "2  5  20  48.266129\n",
       "3  3  50  43.024194\n",
       "4  6  50  50.887097\n",
       "5  5  55  48.266129\n",
       "6  7  60  53.508065"
      ]
     },
     "execution_count": 10,
     "metadata": {},
     "output_type": "execute_result"
    }
   ],
   "source": [
    "data = {'x': [2, 4, 5, 3, 6, 5, 7],\n",
    "       'y': [35, 60, 20, 50, 50, 55, 60],\n",
    "       'y_hat': [40.40322581, 45.64516129, 48.26612903, 43.02419355, 50.88709677,\n",
    "       48.26612903, 53.50806452] }\n",
    "df = pd.DataFrame(data)\n",
    "df"
   ]
  },
  {
   "cell_type": "code",
   "execution_count": 11,
   "id": "809a0e38-3d6c-44c5-87be-3910aec4ee59",
   "metadata": {},
   "outputs": [
    {
     "data": {
      "text/html": [
       "<div>\n",
       "<style scoped>\n",
       "    .dataframe tbody tr th:only-of-type {\n",
       "        vertical-align: middle;\n",
       "    }\n",
       "\n",
       "    .dataframe tbody tr th {\n",
       "        vertical-align: top;\n",
       "    }\n",
       "\n",
       "    .dataframe thead th {\n",
       "        text-align: right;\n",
       "    }\n",
       "</style>\n",
       "<table border=\"1\" class=\"dataframe\">\n",
       "  <thead>\n",
       "    <tr style=\"text-align: right;\">\n",
       "      <th></th>\n",
       "      <th>x</th>\n",
       "      <th>y</th>\n",
       "      <th>y_hat</th>\n",
       "      <th>residuals</th>\n",
       "    </tr>\n",
       "  </thead>\n",
       "  <tbody>\n",
       "    <tr>\n",
       "      <th>0</th>\n",
       "      <td>2</td>\n",
       "      <td>35</td>\n",
       "      <td>40.403226</td>\n",
       "      <td>-5.403226</td>\n",
       "    </tr>\n",
       "    <tr>\n",
       "      <th>1</th>\n",
       "      <td>4</td>\n",
       "      <td>60</td>\n",
       "      <td>45.645161</td>\n",
       "      <td>14.354839</td>\n",
       "    </tr>\n",
       "    <tr>\n",
       "      <th>2</th>\n",
       "      <td>5</td>\n",
       "      <td>20</td>\n",
       "      <td>48.266129</td>\n",
       "      <td>-28.266129</td>\n",
       "    </tr>\n",
       "    <tr>\n",
       "      <th>3</th>\n",
       "      <td>3</td>\n",
       "      <td>50</td>\n",
       "      <td>43.024194</td>\n",
       "      <td>6.975806</td>\n",
       "    </tr>\n",
       "    <tr>\n",
       "      <th>4</th>\n",
       "      <td>6</td>\n",
       "      <td>50</td>\n",
       "      <td>50.887097</td>\n",
       "      <td>-0.887097</td>\n",
       "    </tr>\n",
       "    <tr>\n",
       "      <th>5</th>\n",
       "      <td>5</td>\n",
       "      <td>55</td>\n",
       "      <td>48.266129</td>\n",
       "      <td>6.733871</td>\n",
       "    </tr>\n",
       "    <tr>\n",
       "      <th>6</th>\n",
       "      <td>7</td>\n",
       "      <td>60</td>\n",
       "      <td>53.508065</td>\n",
       "      <td>6.491935</td>\n",
       "    </tr>\n",
       "  </tbody>\n",
       "</table>\n",
       "</div>"
      ],
      "text/plain": [
       "   x   y      y_hat  residuals\n",
       "0  2  35  40.403226  -5.403226\n",
       "1  4  60  45.645161  14.354839\n",
       "2  5  20  48.266129 -28.266129\n",
       "3  3  50  43.024194   6.975806\n",
       "4  6  50  50.887097  -0.887097\n",
       "5  5  55  48.266129   6.733871\n",
       "6  7  60  53.508065   6.491935"
      ]
     },
     "execution_count": 11,
     "metadata": {},
     "output_type": "execute_result"
    }
   ],
   "source": [
    "df['residuals'] = df['y'] - df['y_hat']\n",
    "df"
   ]
  },
  {
   "cell_type": "code",
   "execution_count": 12,
   "id": "6efca653-bf75-4cfd-85f4-46581f535e86",
   "metadata": {},
   "outputs": [
    {
     "name": "stdout",
     "output_type": "stream",
     "text": [
      "Mean Squared Error(MSE): 1171.1693547088714, Mean Absolute Error(MAE): 69.11290322\n"
     ]
    }
   ],
   "source": [
    "MSE_sklearn = (df['residuals']**2).sum()\n",
    "MAE_sklearn = df['residuals'].abs().sum()\n",
    "print(f\"Mean Squared Error(MSE): {MSE_sklearn}, Mean Absolute Error(MAE): {MAE_sklearn}\")"
   ]
  },
  {
   "cell_type": "code",
   "execution_count": 15,
   "id": "834bcabc-97d9-4422-88a2-039bd4f50a0a",
   "metadata": {},
   "outputs": [],
   "source": [
    "df.to_excel(\"output.xlsx\", index=False)"
   ]
  }
 ],
 "metadata": {
  "kernelspec": {
   "display_name": "Python 3 (ipykernel)",
   "language": "python",
   "name": "python3"
  },
  "language_info": {
   "codemirror_mode": {
    "name": "ipython",
    "version": 3
   },
   "file_extension": ".py",
   "mimetype": "text/x-python",
   "name": "python",
   "nbconvert_exporter": "python",
   "pygments_lexer": "ipython3",
   "version": "3.12.4"
  }
 },
 "nbformat": 4,
 "nbformat_minor": 5
}
