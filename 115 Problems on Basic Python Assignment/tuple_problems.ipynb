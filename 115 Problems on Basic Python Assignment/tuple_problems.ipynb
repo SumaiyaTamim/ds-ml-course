{
 "cells": [
  {
   "cell_type": "markdown",
   "id": "bf4ffcdf-846d-40df-b941-67f0a18047b1",
   "metadata": {},
   "source": [
    "**49. Tuple Concatenation:** Write a Python program to concatenate two tuples and create a new tuple."
   ]
  },
  {
   "cell_type": "code",
   "execution_count": 1,
   "id": "d586a079-daef-4c0c-ad7c-9adc2fa807ae",
   "metadata": {},
   "outputs": [
    {
     "name": "stdout",
     "output_type": "stream",
     "text": [
      "('a', 'b', 'c', 'd', 'e', 'f')\n"
     ]
    }
   ],
   "source": [
    "tuple1 = ('a', 'b', 'c')\n",
    "tuple2 = ('d', 'e', 'f')\n",
    "new_tuple = tuple1 + tuple2\n",
    "print(new_tuple)"
   ]
  },
  {
   "cell_type": "markdown",
   "id": "2f8fdf53-9fb7-4da7-95c3-ad359dec5078",
   "metadata": {},
   "source": [
    "**50. Tuple Unpacking:** Given a tuple with three elements (x, y, z), write a Python program to unpack the tuple and assign the values to three variables."
   ]
  },
  {
   "cell_type": "code",
   "execution_count": 2,
   "id": "a573dacf-33f9-4fa6-ac19-aa0a452bd9f8",
   "metadata": {},
   "outputs": [
    {
     "name": "stdout",
     "output_type": "stream",
     "text": [
      "x, y, z\n"
     ]
    }
   ],
   "source": [
    "tuple3 = ('x', 'y', 'z')\n",
    "a, b, c = tuple3\n",
    "print(f\"{a}, {b}, {c}\")"
   ]
  },
  {
   "cell_type": "markdown",
   "id": "7545ceca-08fa-4eee-91d0-4aa52e0f9504",
   "metadata": {},
   "source": [
    "**51. Tuple Sorting:** Write a Python program to sort a tuple of integers in ascending order."
   ]
  },
  {
   "cell_type": "code",
   "execution_count": 4,
   "id": "8f56140c-4ac5-46e5-9b89-d33c81e3ab84",
   "metadata": {},
   "outputs": [
    {
     "name": "stdout",
     "output_type": "stream",
     "text": [
      "(5, 10, 20, 25, 30)\n"
     ]
    }
   ],
   "source": [
    "tuple4 = (10, 30, 20, 5, 25)\n",
    "print(tuple(sorted(tuple4)))"
   ]
  },
  {
   "cell_type": "markdown",
   "id": "b3310528-ac34-4678-8dc2-b4e81f5a1fef",
   "metadata": {},
   "source": [
    "**52. Tuple Frequency Count:** Given a tuple containing various elements, write a Python program to count the frequency of a specific element in the tuple."
   ]
  },
  {
   "cell_type": "code",
   "execution_count": 5,
   "id": "aa26e645-e8ca-45b0-b292-bbb4a214e628",
   "metadata": {},
   "outputs": [
    {
     "name": "stdout",
     "output_type": "stream",
     "text": [
      "4\n"
     ]
    }
   ],
   "source": [
    "tuple5 = [1, 2, 2, 3, 4, 4, 4, 4, 5]\n",
    "print(tuple5.count(4))"
   ]
  },
  {
   "cell_type": "markdown",
   "id": "4299c77b-1766-4d04-a735-71c9189663ed",
   "metadata": {},
   "source": [
    "**53. Tuple to List:** Write a Python program to convert a tuple into a list."
   ]
  },
  {
   "cell_type": "code",
   "execution_count": 6,
   "id": "b48addc7-3c2a-43ca-b605-bf9a33ab76fc",
   "metadata": {},
   "outputs": [
    {
     "name": "stdout",
     "output_type": "stream",
     "text": [
      "[1, 2, 3, 4, 5]\n"
     ]
    }
   ],
   "source": [
    "tuple6 = (1, 2, 3, 4, 5)\n",
    "print(list(tuple6))"
   ]
  },
  {
   "cell_type": "markdown",
   "id": "ac01be6b-f9b3-488f-83ae-a1d1ad20ab1d",
   "metadata": {},
   "source": [
    "**54. Tuple Reversal:** Write a Python program to reverse a tuple without using any built-in functions."
   ]
  },
  {
   "cell_type": "code",
   "execution_count": 7,
   "id": "b22296fd-2856-43c3-8e6f-cc50c307b9a2",
   "metadata": {},
   "outputs": [
    {
     "name": "stdout",
     "output_type": "stream",
     "text": [
      "(5, 4, 3, 2, 1)\n"
     ]
    }
   ],
   "source": [
    "print(tuple6[::-1])"
   ]
  },
  {
   "cell_type": "markdown",
   "id": "0933d523-7588-4f82-bf11-7dd5846a2be5",
   "metadata": {},
   "source": [
    "**55. Tuple Slicing:** Given a tuple, write a Python program to extract a slice of elements from it."
   ]
  },
  {
   "cell_type": "code",
   "execution_count": 8,
   "id": "e78b52a1-5db8-4630-95f8-feb8f59594f6",
   "metadata": {},
   "outputs": [
    {
     "name": "stdout",
     "output_type": "stream",
     "text": [
      "(2, 3, 4)\n"
     ]
    }
   ],
   "source": [
    "print(tuple6[1:4])"
   ]
  },
  {
   "cell_type": "markdown",
   "id": "bdf791d8-2059-4fb7-b672-aa31b3a3a6ad",
   "metadata": {},
   "source": [
    "**56. Tuple Operations:** Given two tuples of integers, write a Python program to perform element-wise addition, subtraction, and multiplication and create new tuples for each operation."
   ]
  },
  {
   "cell_type": "code",
   "execution_count": 22,
   "id": "2482e73a-e4c1-4b01-8e6b-10ada68492eb",
   "metadata": {},
   "outputs": [
    {
     "name": "stdout",
     "output_type": "stream",
     "text": [
      "Addition: (5, 7, 9), Subtraction: (-3, -3, -3), Multiplication: (4, 10, 18)\n"
     ]
    }
   ],
   "source": [
    "tuple7 = (1, 2, 3)\n",
    "tuple8 = (4, 5, 6)\n",
    "addition = tuple(a + b for a, b in zip(tuple7, tuple8))\n",
    "subtraction = tuple(a - b for a, b in zip(tuple7, tuple8))\n",
    "multiplication = tuple(a * b for a, b in zip(tuple7, tuple8))\n",
    "print(f\"Addition: {addition}, Subtraction: {subtraction}, Multiplication: {multiplication}\")"
   ]
  },
  {
   "cell_type": "markdown",
   "id": "430cc205-6079-4e27-9b2f-0597e21d4980",
   "metadata": {},
   "source": [
    "**57. Tuple Membership Test:** Write a Python program that takes an element as input and checks if it exists in a given tuple."
   ]
  },
  {
   "cell_type": "code",
   "execution_count": 24,
   "id": "6401c632-2a58-4ed3-a2b8-f1a6f6bdc936",
   "metadata": {},
   "outputs": [
    {
     "name": "stdin",
     "output_type": "stream",
     "text": [
      "Please input an element:  2\n"
     ]
    },
    {
     "name": "stdout",
     "output_type": "stream",
     "text": [
      "The element exists in the tuple!\n"
     ]
    }
   ],
   "source": [
    "tuple7 = (1, 2, 3)\n",
    "element = int(input(\"Please input an element: \"))\n",
    "if element in tuple7:\n",
    "    print(\"The element exists in the tuple!\")\n",
    "else:\n",
    "    print(\"The element does not exist in the tuple!\")"
   ]
  },
  {
   "cell_type": "markdown",
   "id": "6e25a588-d9a5-41cf-b1c9-aeb8176fbcd7",
   "metadata": {},
   "source": [
    "**58. Tuple Packing:** Write a Python program to pack three variables into a single tuple and print the tuple."
   ]
  },
  {
   "cell_type": "code",
   "execution_count": 25,
   "id": "11c3cfb2-9b06-4332-828e-7848085e2364",
   "metadata": {},
   "outputs": [
    {
     "name": "stdout",
     "output_type": "stream",
     "text": [
      "(('Hello',), [1, 2, 3], 'World!')\n"
     ]
    }
   ],
   "source": [
    "var1 = \"Hello\",\n",
    "var2 = [1, 2, 3]\n",
    "var3 = \"World!\"\n",
    "tuple9 = (var1, var2, var3)\n",
    "print(tuple9)"
   ]
  },
  {
   "cell_type": "code",
   "execution_count": null,
   "id": "e31885fd-f692-4eef-84db-71fab185b8c3",
   "metadata": {},
   "outputs": [],
   "source": []
  }
 ],
 "metadata": {
  "kernelspec": {
   "display_name": "Python 3 (ipykernel)",
   "language": "python",
   "name": "python3"
  },
  "language_info": {
   "codemirror_mode": {
    "name": "ipython",
    "version": 3
   },
   "file_extension": ".py",
   "mimetype": "text/x-python",
   "name": "python",
   "nbconvert_exporter": "python",
   "pygments_lexer": "ipython3",
   "version": "3.12.4"
  }
 },
 "nbformat": 4,
 "nbformat_minor": 5
}
