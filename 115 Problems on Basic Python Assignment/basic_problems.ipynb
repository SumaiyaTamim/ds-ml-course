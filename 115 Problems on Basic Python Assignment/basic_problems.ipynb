{
 "cells": [
  {
   "cell_type": "markdown",
   "id": "6186035f-dc32-4dc2-8a64-5ca63c88d3df",
   "metadata": {},
   "source": [
    "**1. Variable Swap:**\n",
    "Write a Python program to swap the values of two variables without using a temporary variable."
   ]
  },
  {
   "cell_type": "code",
   "execution_count": 1,
   "id": "9cda8ec2-6fd6-4cd9-936c-29726f03f285",
   "metadata": {},
   "outputs": [
    {
     "name": "stdin",
     "output_type": "stream",
     "text": [
      "Please input a number:  10\n",
      "Please input another number:  20\n"
     ]
    },
    {
     "name": "stdout",
     "output_type": "stream",
     "text": [
      "Before the swap, the value of the first number is 10 and the second number is 20\n",
      "After the swap, the value of the first number is 20 and the second number is 10\n"
     ]
    }
   ],
   "source": [
    "num1 = int(input(\"Please input a number: \"))\n",
    "num2 = int(input(\"Please input another number: \"));\n",
    "print(f\"Before the swap, the value of the first number is {num1} and the second number is {num2}\")\n",
    "num2, num1 = num1, num2\n",
    "print(f\"After the swap, the value of the first number is {num1} and the second number is {num2}\")"
   ]
  },
  {
   "cell_type": "markdown",
   "id": "ecf64a7c-b97f-40bd-a0df-9248e3dafea7",
   "metadata": {},
   "source": [
    "**2. Even or Odd:** Write a Python program that takes an integer as input and prints whether it is even or odd."
   ]
  },
  {
   "cell_type": "markdown",
   "id": "2ddb0ee3-c23c-462f-8b96-da8c7bbde6f0",
   "metadata": {},
   "source": [
    "number = int(input(\"Please input a number: \"))\n",
    "if(number%2==0):\n",
    "    print(\"The number is even\")\n",
    "else: \n",
    "    print(\"The number is odd\")"
   ]
  },
  {
   "cell_type": "markdown",
   "id": "89f77575-6786-427b-a5d8-5b00f4726db8",
   "metadata": {},
   "source": [
    "**3. String Reverse:** Write a Python function to reverse a given string and return the reversed string."
   ]
  },
  {
   "cell_type": "code",
   "execution_count": 7,
   "id": "e5152787-265a-4b12-859b-9a8a346ba82a",
   "metadata": {},
   "outputs": [
    {
     "name": "stdin",
     "output_type": "stream",
     "text": [
      "Please input a word:  hello\n"
     ]
    },
    {
     "name": "stdout",
     "output_type": "stream",
     "text": [
      "The reversed string is olleh\n"
     ]
    }
   ],
   "source": [
    "def reverse_string(string):\n",
    "    return string[::-1]\n",
    "string = input(\"Please input a word: \")\n",
    "reversed_string = reverse_string(string)\n",
    "print(f\"The reversed string is {reversed_string}\")"
   ]
  },
  {
   "cell_type": "markdown",
   "id": "6fc30d1e-3e8e-4c23-9952-380c177b431c",
   "metadata": {},
   "source": [
    "**4. Type Conversion:** Given a list of integers, write a Python program to convert each element of the list to a string."
   ]
  },
  {
   "cell_type": "code",
   "execution_count": 9,
   "id": "0b240c95-02f9-47ed-911a-08990258f9dd",
   "metadata": {},
   "outputs": [
    {
     "name": "stdin",
     "output_type": "stream",
     "text": [
      "Please input your list of integers 4 6 8 10\n"
     ]
    },
    {
     "name": "stdout",
     "output_type": "stream",
     "text": [
      "The converted list: ['4', '6', '8', '10']\n"
     ]
    }
   ],
   "source": [
    "list_of_int = input(\"Please input your list of integers\").split()\n",
    "print(f\"The converted list: {list_of_int}\")"
   ]
  },
  {
   "cell_type": "markdown",
   "id": "ccb560ee-1c37-4eff-a315-a4631e18528c",
   "metadata": {},
   "source": [
    "**5. Temperature Converter:** Write a Python program that converts a temperature in Celsius to Fahrenheit. Take the Celsius temperature as input from the user."
   ]
  },
  {
   "cell_type": "code",
   "execution_count": 14,
   "id": "089ecbd4-ec71-4d30-ac86-ca2e785c4221",
   "metadata": {},
   "outputs": [
    {
     "name": "stdin",
     "output_type": "stream",
     "text": [
      "Please input your temperature in celsius:  100\n"
     ]
    },
    {
     "name": "stdout",
     "output_type": "stream",
     "text": [
      "Your temperature in Farenheit is: 212.0\n"
     ]
    }
   ],
   "source": [
    "temp_celsius = int(input(\"Please input your temperature in celsius: \"))\n",
    "temp_faren = (temp_celsius*9/5)+32\n",
    "print(f\"Your temperature in Farenheit is: {temp_faren}\")"
   ]
  },
  {
   "cell_type": "markdown",
   "id": "722b9d77-2f6f-4e21-8924-254e7f4db248",
   "metadata": {},
   "source": [
    "**6. Data Type Checker:** Write a Python function that takes a variable as input and returns the data type of the variable as a string (e.g., “int”, “float”, “str”, “list”, etc.)."
   ]
  },
  {
   "cell_type": "code",
   "execution_count": 29,
   "id": "91c5e2c4-f1cf-4037-b2ab-26b517ceb519",
   "metadata": {},
   "outputs": [
    {
     "name": "stdin",
     "output_type": "stream",
     "text": [
      "Please input a variable:  [1,2,3]\n"
     ]
    },
    {
     "name": "stdout",
     "output_type": "stream",
     "text": [
      "The data type of the variable: list\n"
     ]
    }
   ],
   "source": [
    "var = input(\"Please input a variable: \")\n",
    "# print(eval(var))\n",
    "# print(type(eval(var)))\n",
    "print(f\"The data type of the variable: {type(eval(var)).__name__}\")"
   ]
  },
  {
   "cell_type": "markdown",
   "id": "4d2beab9-c9f1-4499-9bd0-945aeef6495e",
   "metadata": {},
   "source": [
    "**7. String Palindrome:** Write a Python function to check if a given string is a palindrome or not."
   ]
  },
  {
   "cell_type": "code",
   "execution_count": 32,
   "id": "f182319c-dcf5-4047-a937-ffa8e56f4318",
   "metadata": {},
   "outputs": [
    {
     "name": "stdin",
     "output_type": "stream",
     "text": [
      "Please input a string:  madam\n"
     ]
    },
    {
     "name": "stdout",
     "output_type": "stream",
     "text": [
      "The given string is a palindrome\n"
     ]
    }
   ],
   "source": [
    "string = input(\"Please input a string: \")\n",
    "reversed_string = string[::-1]\n",
    "if string == reversed_string:\n",
    "    print(\"The given string is a palindrome\")\n",
    "else:\n",
    "    print(\"The given string is not a palindrome\")"
   ]
  },
  {
   "cell_type": "markdown",
   "id": "4f4c790c-5a17-4efa-8057-6a905fa70316",
   "metadata": {},
   "source": [
    "**8. String Reversal with Slicing:** Write a Python function to reverse a given string using slicing."
   ]
  },
  {
   "cell_type": "code",
   "execution_count": 34,
   "id": "a63fa42d-9a21-4bbb-b4a3-e8ee045f6677",
   "metadata": {},
   "outputs": [
    {
     "name": "stdin",
     "output_type": "stream",
     "text": [
      "Please input a string:  hello\n"
     ]
    },
    {
     "name": "stdout",
     "output_type": "stream",
     "text": [
      "The reversed string: olleh\n"
     ]
    }
   ],
   "source": [
    "string = input(\"Please input a string: \")\n",
    "reversed_string = string[::-1]\n",
    "print(f\"The reversed string: {reversed_string}\")"
   ]
  },
  {
   "cell_type": "markdown",
   "id": "7ee6d3b4-f085-46ff-9151-9eb4c85643b4",
   "metadata": {},
   "source": [
    "**9. String Concatenation:** Write a Python program that takes two strings as input and concatenates them into a single string without using the `+` operator."
   ]
  },
  {
   "cell_type": "code",
   "execution_count": 42,
   "id": "dda59a8b-5e1e-40c8-8110-fa9c4e19f41b",
   "metadata": {},
   "outputs": [
    {
     "name": "stdin",
     "output_type": "stream",
     "text": [
      "Please input two strings:  hello world\n"
     ]
    },
    {
     "name": "stdout",
     "output_type": "stream",
     "text": [
      "helloworld\n"
     ]
    }
   ],
   "source": [
    "strings = input(\"Please input two strings: \").split()\n",
    "print(\"\".join(strings))"
   ]
  },
  {
   "cell_type": "markdown",
   "id": "9e15038d-f1b5-4e6a-b48f-9c07e9d19c9e",
   "metadata": {},
   "source": [
    "**10. Typecasting Challenge:** Given three variables: `a = ‘100’`, `b = 25`, and `c = ‘10.5’`, write a Python program to perform the following operations and print the results: – Convert `a` to an integer and add it to `b`. – Convert `c` to a float and subtract it from the result of the first operation. – Convert the final result to a string and concatenate it with the string ” is the answer.”"
   ]
  },
  {
   "cell_type": "code",
   "execution_count": 45,
   "id": "9ccb5eec-680f-4576-b0f2-4530c1f0a93a",
   "metadata": {},
   "outputs": [
    {
     "name": "stdout",
     "output_type": "stream",
     "text": [
      "114.5 is the answer\n"
     ]
    }
   ],
   "source": [
    "a = '100'\n",
    "b = 25\n",
    "c = '10.5'\n",
    "print(str((int(a) + b ) - float(c)) + \" is the answer\")"
   ]
  }
 ],
 "metadata": {
  "kernelspec": {
   "display_name": "Python 3 (ipykernel)",
   "language": "python",
   "name": "python3"
  },
  "language_info": {
   "codemirror_mode": {
    "name": "ipython",
    "version": 3
   },
   "file_extension": ".py",
   "mimetype": "text/x-python",
   "name": "python",
   "nbconvert_exporter": "python",
   "pygments_lexer": "ipython3",
   "version": "3.12.4"
  }
 },
 "nbformat": 4,
 "nbformat_minor": 5
}
