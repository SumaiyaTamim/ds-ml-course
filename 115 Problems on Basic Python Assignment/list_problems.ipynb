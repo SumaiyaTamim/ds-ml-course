{
 "cells": [
  {
   "cell_type": "markdown",
   "id": "d56bdf4a-65a0-4756-a869-c672f9adc75a",
   "metadata": {},
   "source": [
    "**34. List Sum:** Write a Python program to find the sum of all elements in a given list of integers."
   ]
  },
  {
   "cell_type": "code",
   "execution_count": 1,
   "id": "04f7bd04-0dc1-4192-b03c-18cd49ab9cf5",
   "metadata": {},
   "outputs": [
    {
     "name": "stdout",
     "output_type": "stream",
     "text": [
      "The sum of all elements: 30\n"
     ]
    }
   ],
   "source": [
    "lst = [2, 4, 6, 8, 10]\n",
    "print(f\"The sum of all elements: {sum(lst)}\")"
   ]
  },
  {
   "cell_type": "markdown",
   "id": "92fdaedd-f970-4351-9c11-22e558d42580",
   "metadata": {},
   "source": [
    "**35. List Average:** Write a Python program to calculate the average of all elements in a given list of integers."
   ]
  },
  {
   "cell_type": "code",
   "execution_count": 3,
   "id": "e1d76b97-87f6-479e-9050-3bc799a2c71c",
   "metadata": {},
   "outputs": [
    {
     "name": "stdout",
     "output_type": "stream",
     "text": [
      "The average of all elements: 6.0\n"
     ]
    }
   ],
   "source": [
    "average = sum(lst)/len(lst)\n",
    "print(f\"The average of all elements: {average}\")"
   ]
  },
  {
   "cell_type": "markdown",
   "id": "c3b5913e-6c17-4647-87ff-75659bd55425",
   "metadata": {},
   "source": [
    "**36. List Max and Min:** Write a Python program to find the maximum and minimum values in a given list of integers."
   ]
  },
  {
   "cell_type": "code",
   "execution_count": 4,
   "id": "9d2ef7c1-9a1f-4715-a696-6998ac703550",
   "metadata": {},
   "outputs": [
    {
     "name": "stdout",
     "output_type": "stream",
     "text": [
      "Maximum: 10, Minimum: 2\n"
     ]
    }
   ],
   "source": [
    "maximum = max(lst)\n",
    "minimum = min(lst)\n",
    "print(f\"Maximum: {maximum}, Minimum: {minimum}\")"
   ]
  },
  {
   "cell_type": "markdown",
   "id": "46c22d34-68f8-4795-912a-92b624733338",
   "metadata": {},
   "source": [
    "**37. List Sorting:** Write a Python program to sort a list of integers in ascending order."
   ]
  },
  {
   "cell_type": "code",
   "execution_count": 9,
   "id": "55d84682-ea8a-48ed-93d0-0e868fab2861",
   "metadata": {},
   "outputs": [
    {
     "name": "stdout",
     "output_type": "stream",
     "text": [
      "List of intgers in ascending order: [2, 4, 6, 8, 10, 12]\n"
     ]
    }
   ],
   "source": [
    "lst = [2, 10, 8, 12, 4, 6]\n",
    "lst.sort()\n",
    "print(f\"List of intgers in ascending order: {lst}\")"
   ]
  },
  {
   "cell_type": "markdown",
   "id": "585a740d-94c8-4d85-9c20-9a758206327b",
   "metadata": {},
   "source": [
    "**38. List Filtering:** Given a list of integers, write a Python program to create a new list that contains only the even numbers from the original list."
   ]
  },
  {
   "cell_type": "code",
   "execution_count": 10,
   "id": "5cec3395-dd46-4507-864a-f9213786e065",
   "metadata": {},
   "outputs": [
    {
     "name": "stdout",
     "output_type": "stream",
     "text": [
      "List of even numbers: [2, 4, 6]\n"
     ]
    }
   ],
   "source": [
    "original_list = [1, 2, 3, 4, 5, 6]\n",
    "new_list = []\n",
    "for ele in original_list:\n",
    "    if ele % 2 == 0:\n",
    "        new_list.append(ele)\n",
    "print(f\"List of even numbers: {new_list}\")"
   ]
  },
  {
   "cell_type": "markdown",
   "id": "970dacb6-cc9a-4c7f-b406-ceab6292400b",
   "metadata": {},
   "source": [
    "**39. List Reversal:** Write a Python program to reverse a given list without using any built-in functions."
   ]
  },
  {
   "cell_type": "code",
   "execution_count": 15,
   "id": "ac3c07c5-5084-4954-ac7f-625bf06e7517",
   "metadata": {},
   "outputs": [
    {
     "name": "stdout",
     "output_type": "stream",
     "text": [
      "Reverse of given list: [6, 5, 4, 3, 2]\n"
     ]
    }
   ],
   "source": [
    "lst = [1, 2, 3, 4, 5, 6]\n",
    "reversed_lst = []\n",
    "for i in range(len(lst)-1, 0, -1):\n",
    "    reversed_lst.append(lst[i])\n",
    "print(f\"Reverse of given list: {reversed_lst}\")"
   ]
  },
  {
   "cell_type": "markdown",
   "id": "3a54daff-ced2-43dd-aaee-049b24dabad7",
   "metadata": {},
   "source": [
    "**40. List Manipulation:** Given two lists of integers, write a Python program to create a new list that contains elements common to both lists."
   ]
  },
  {
   "cell_type": "code",
   "execution_count": 23,
   "id": "0954189b-87c2-4712-a47d-5b8b492e83a6",
   "metadata": {},
   "outputs": [
    {
     "name": "stdout",
     "output_type": "stream",
     "text": [
      "List of elements common to both lists: [4, 5]\n"
     ]
    }
   ],
   "source": [
    "lst1 = [1, 2, 3, 4, 5]\n",
    "lst2 = [4, 5, 6, 7, 8]\n",
    "set1 = set(lst1)\n",
    "set2 = set(lst2)\n",
    "common_ele_lst = list(set1.intersection(set2))\n",
    "print(f\"List of elements common to both lists: {common_ele_lst}\")"
   ]
  },
  {
   "cell_type": "markdown",
   "id": "c341912f-ef01-48e5-a672-91894c0a4c80",
   "metadata": {},
   "source": [
    "**41. List Element Count:** Write a Python program to count the occurrences of a specific element in a given list."
   ]
  },
  {
   "cell_type": "code",
   "execution_count": 24,
   "id": "4a30f026-68be-4665-9861-7eb244fa19fe",
   "metadata": {},
   "outputs": [
    {
     "name": "stdout",
     "output_type": "stream",
     "text": [
      "The occurences of apple in the given list: 3\n"
     ]
    }
   ],
   "source": [
    "fruits = ['apple', 'banana', 'mango', 'apple', 'banana', 'orange', 'apple']\n",
    "count_ele = fruits.count('apple')\n",
    "print(f\"The occurences of apple in the given list: {count_ele}\")"
   ]
  },
  {
   "cell_type": "markdown",
   "id": "886819aa-cdbf-41a6-ba8d-58ade7a1d1a7",
   "metadata": {},
   "source": [
    "**42. List Duplicates Removal:** Write a Python program to remove duplicates from a given list while preserving the order of the elements."
   ]
  },
  {
   "cell_type": "code",
   "execution_count": 25,
   "id": "687e5b2b-ac1e-430c-ba8a-0e918cd1f0c2",
   "metadata": {},
   "outputs": [
    {
     "name": "stdout",
     "output_type": "stream",
     "text": [
      "Unique list: [1, 2, 3, 4, 5, 6]\n"
     ]
    }
   ],
   "source": [
    "lst = [1, 2, 2, 3, 3, 3, 4, 4, 5, 5, 6]\n",
    "unique_lst = list(dict.fromkeys(lst))\n",
    "print(f\"Unique list: {unique_lst}\")"
   ]
  },
  {
   "cell_type": "markdown",
   "id": "c3054849-fe74-451e-9d13-3b4fff6b0c86",
   "metadata": {},
   "source": [
    "**43. List Comprehension:** Given a list of integers, write a Python program to create a new list that contains the squares of the elements using list comprehension."
   ]
  },
  {
   "cell_type": "code",
   "execution_count": 28,
   "id": "d185b142-5371-4239-b417-74fa1abacd23",
   "metadata": {},
   "outputs": [
    {
     "name": "stdout",
     "output_type": "stream",
     "text": [
      "List of squares: [1, 4, 9, 16, 25]\n"
     ]
    }
   ],
   "source": [
    "lst = [1, 2, 3, 4, 5]\n",
    "squares_of_ele = [i**2 for i in range(1,6)]\n",
    "print(f\"List of squares: {squares_of_ele}\")"
   ]
  }
 ],
 "metadata": {
  "kernelspec": {
   "display_name": "Python 3 (ipykernel)",
   "language": "python",
   "name": "python3"
  },
  "language_info": {
   "codemirror_mode": {
    "name": "ipython",
    "version": 3
   },
   "file_extension": ".py",
   "mimetype": "text/x-python",
   "name": "python",
   "nbconvert_exporter": "python",
   "pygments_lexer": "ipython3",
   "version": "3.12.4"
  }
 },
 "nbformat": 4,
 "nbformat_minor": 5
}
