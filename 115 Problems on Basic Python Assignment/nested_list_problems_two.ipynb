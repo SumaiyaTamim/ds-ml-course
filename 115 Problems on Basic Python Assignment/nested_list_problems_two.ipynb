{
 "cells": [
  {
   "cell_type": "markdown",
   "id": "cc2f262e-c321-4ca8-9d2f-a904324ad13d",
   "metadata": {},
   "source": [
    "**59. Nested List Element Access:** Given a nested list, write a Python program to access and print specific elements from it."
   ]
  },
  {
   "cell_type": "code",
   "execution_count": 1,
   "id": "90de7792-b08c-4b79-abae-608ba9bc5469",
   "metadata": {},
   "outputs": [
    {
     "name": "stdout",
     "output_type": "stream",
     "text": [
      "3\n"
     ]
    }
   ],
   "source": [
    "lst = [[1, 2, 3], [4, 5, 6]]\n",
    "element = lst[0][2]\n",
    "print(element)"
   ]
  },
  {
   "cell_type": "markdown",
   "id": "0b927ef4-07b6-4cd7-abaf-cf282fb16b69",
   "metadata": {},
   "source": [
    "**60. Nested List Flattening:** Write a Python program to flatten a nested list and convert it into a single-dimensional list."
   ]
  },
  {
   "cell_type": "code",
   "execution_count": 2,
   "id": "980e1865-eab3-4121-b9af-b1e1cd6feabd",
   "metadata": {},
   "outputs": [
    {
     "name": "stdout",
     "output_type": "stream",
     "text": [
      "[1, 2, 3, 4, 5, 6]\n"
     ]
    }
   ],
   "source": [
    "lst = [[1, 2, 3], [4, 5, 6]]\n",
    "flat_lst = []\n",
    "for element in lst:\n",
    "    if type(element) is list:\n",
    "        for item in element:\n",
    "            flat_lst.append(item)\n",
    "    else:\n",
    "        flat_lst.append(element)\n",
    "print(flat_lst)"
   ]
  },
  {
   "cell_type": "markdown",
   "id": "98a76c7b-44bc-4352-a9d0-00dba2aa6b0b",
   "metadata": {},
   "source": [
    "**61. Nested List Sorting:** Given a nested list containing lists of integers, write a Python program to sort the sublists based on their lengths."
   ]
  },
  {
   "cell_type": "code",
   "execution_count": 6,
   "id": "9f4a47f2-8955-4f97-b6ce-aeff143fb133",
   "metadata": {},
   "outputs": [
    {
     "name": "stdout",
     "output_type": "stream",
     "text": [
      "[[50, 60, 70], [80, 90, 100], [10, 20, 30, 40]]\n"
     ]
    }
   ],
   "source": [
    "nested_lst = [[10, 20, 30, 40], [50, 60, 70], [80, 90, 100]]\n",
    "sorted_lst = sorted(nested_lst, key=len)\n",
    "print(sorted_lst)"
   ]
  },
  {
   "cell_type": "markdown",
   "id": "0fa4c649-2e15-4d7e-ab88-19f459e8b287",
   "metadata": {},
   "source": [
    "**62. List of Tuples Conversion:** Given a nested list containing tuples of (x, y) coordinates, write a Python program to convert it into a list of x-coordinates and a list of y-coordinates."
   ]
  },
  {
   "cell_type": "code",
   "execution_count": 7,
   "id": "d8f7b682-9db7-4100-9091-5bd474445e1b",
   "metadata": {},
   "outputs": [
    {
     "name": "stdout",
     "output_type": "stream",
     "text": [
      "[1, 3, 5, 7, 9]\n",
      "[2, 4, 6, 8, 10]\n"
     ]
    }
   ],
   "source": [
    "nested_lst = [[(1,2), (3, 4)], [(5, 6), (7, 8)], [(9, 10)]]\n",
    "x_cords = []\n",
    "y_cords = []\n",
    "for coord in nested_lst:\n",
    "    for x, y in coord:\n",
    "        x_cords.append(x)\n",
    "        y_cords.append(y)\n",
    "print(x_cords)\n",
    "print(y_cords)"
   ]
  },
  {
   "cell_type": "markdown",
   "id": "1b657ce3-a3ca-440e-9944-fde5b818ab68",
   "metadata": {},
   "source": [
    "**63. Matrix Transpose:** Write a Python program to transpose a given matrix represented as a nested list."
   ]
  },
  {
   "cell_type": "code",
   "execution_count": 9,
   "id": "31482ddb-52cb-44cb-8256-549dbd374d4e",
   "metadata": {},
   "outputs": [
    {
     "name": "stdout",
     "output_type": "stream",
     "text": [
      "Transposed matrix: [[1, 4, 7], [2, 5, 8], [3, 6, 9]]\n"
     ]
    }
   ],
   "source": [
    "matrix = [[1, 2, 3], [4, 5, 6], [7, 8, 9]]\n",
    "transposed_matrix = [list(row) for row in zip(*matrix)]\n",
    "print(f\"Transposed matrix: {transposed_matrix}\")"
   ]
  },
  {
   "cell_type": "markdown",
   "id": "a98a54ef-5d0e-4903-850c-2ee667fc89a9",
   "metadata": {},
   "source": [
    "**64. Nested List Concatenation:** Given a list of nested lists, write a Python program to concatenate all the sublists into a single flat list."
   ]
  },
  {
   "cell_type": "code",
   "execution_count": 10,
   "id": "222e9d10-b1a7-48aa-a3e6-033b4358252c",
   "metadata": {},
   "outputs": [
    {
     "name": "stdout",
     "output_type": "stream",
     "text": [
      "Flat list: [10, 20, 30, 40, 50, 60, 70, 80, 90, 100]\n"
     ]
    }
   ],
   "source": [
    "nested_lst = [[10, 20, 30], [40, 50, 60], [70, 80, 90, 100]]\n",
    "flat_lst = [item for element in nested_lst for item in element]\n",
    "print(f\"Flat list: {flat_lst}\")"
   ]
  },
  {
   "cell_type": "markdown",
   "id": "56e72ee3-8ced-402f-ba8f-3a311471440f",
   "metadata": {},
   "source": [
    "**65. Count Even Numbers:** Write a Python program to count the number of even numbers in a nested list."
   ]
  },
  {
   "cell_type": "code",
   "execution_count": 11,
   "id": "3418f69e-b509-4685-a3cf-2770b80f24ee",
   "metadata": {},
   "outputs": [
    {
     "name": "stdout",
     "output_type": "stream",
     "text": [
      "The number of even numbers in the nested list: 5\n"
     ]
    }
   ],
   "source": [
    "nested_lst = [[1, 2, 3], [4, 5, 6], [7, 8, 9, 10]]\n",
    "even_nums = 0\n",
    "for sublist in nested_lst:\n",
    "    for number in sublist:\n",
    "        if number % 2 == 0:\n",
    "            even_nums +=1\n",
    "print(f\"The number of even numbers in the nested list: {even_nums}\")"
   ]
  },
  {
   "cell_type": "markdown",
   "id": "0aac0d5e-79b4-44ea-8173-7062dccd878a",
   "metadata": {},
   "source": [
    "**66. Maximum Element in Nested List:** Write a Python program to find the maximum element in a nested list of integers."
   ]
  },
  {
   "cell_type": "code",
   "execution_count": 14,
   "id": "dc85f961-1197-4a88-ac70-fce2d230653c",
   "metadata": {},
   "outputs": [
    {
     "name": "stdout",
     "output_type": "stream",
     "text": [
      "Maximum element: 100\n"
     ]
    }
   ],
   "source": [
    "nested_lst = [[10, 20, 40], [100, 50, 70]]\n",
    "max_ele = 1\n",
    "for sublist in nested_lst:\n",
    "    if max(sublist) > max_ele:\n",
    "        max_ele = max(sublist)\n",
    "print(f\"Maximum element: {max_ele}\")"
   ]
  },
  {
   "cell_type": "markdown",
   "id": "dfdaf2c4-49ac-420f-a0de-fa12675c8612",
   "metadata": {},
   "source": [
    "**67. Diagonal Sum of Matrix:** Given a square matrix represented as a nested list, write a Python program to calculate the sum of the elements in the main diagonal."
   ]
  },
  {
   "cell_type": "code",
   "execution_count": 18,
   "id": "810f3b81-b1d0-456e-9791-bec8a4464569",
   "metadata": {},
   "outputs": [
    {
     "name": "stdout",
     "output_type": "stream",
     "text": [
      "Sum of elements in the main diagonal: 15\n"
     ]
    }
   ],
   "source": [
    "nested_lst = [[1, 2, 3], [4, 5, 6], [7, 8, 9]]\n",
    "n = len(nested_lst)\n",
    "main_diagonal_sum = 0\n",
    "for i in range(0, n):\n",
    "    for j in range(0, n):\n",
    "        if(i == j):\n",
    "            main_diagonal_sum += nested_lst[i][j]\n",
    "print(f\"Sum of elements in the main diagonal: {main_diagonal_sum}\")"
   ]
  },
  {
   "cell_type": "markdown",
   "id": "30a4d4a1-0401-41db-b6d1-fc2668042faf",
   "metadata": {},
   "source": [
    "**68. Nested List Element Search:** Write a Python program to search for a specific element in a nested list and return its position (row and column indices)."
   ]
  },
  {
   "cell_type": "code",
   "execution_count": 20,
   "id": "d7b32f27-6c30-4c0f-a2f7-fe8bdc212e43",
   "metadata": {},
   "outputs": [
    {
     "name": "stdout",
     "output_type": "stream",
     "text": [
      "pink found at indices: [(2, 0)]\n"
     ]
    }
   ],
   "source": [
    "nested_lst = [['red', 'white'], ['orange', 'black', 'blue'], ['pink', 'green']]\n",
    "search_element = 'pink'\n",
    "indices = [(i, j) for i, sublist in enumerate(nested_lst) for j, element in enumerate(sublist) if element == search_element]\n",
    "print(f\"{search_element} found at indices: {indices}\")"
   ]
  }
 ],
 "metadata": {
  "kernelspec": {
   "display_name": "Python 3 (ipykernel)",
   "language": "python",
   "name": "python3"
  },
  "language_info": {
   "codemirror_mode": {
    "name": "ipython",
    "version": 3
   },
   "file_extension": ".py",
   "mimetype": "text/x-python",
   "name": "python",
   "nbconvert_exporter": "python",
   "pygments_lexer": "ipython3",
   "version": "3.12.4"
  }
 },
 "nbformat": 4,
 "nbformat_minor": 5
}
