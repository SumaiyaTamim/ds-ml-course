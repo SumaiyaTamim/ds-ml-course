{
 "cells": [
  {
   "cell_type": "markdown",
   "id": "a88817ec-09cf-418d-8868-31b0da1d872c",
   "metadata": {},
   "source": [
    "**44. Matrix Addition:** Write a Python program to add two matrices represented as nested lists."
   ]
  },
  {
   "cell_type": "code",
   "execution_count": 3,
   "id": "9744ea07-51ef-4757-8b6f-64df1aa0ab2d",
   "metadata": {},
   "outputs": [
    {
     "name": "stdout",
     "output_type": "stream",
     "text": [
      "[[19, 22], [43, 50]]\n"
     ]
    }
   ],
   "source": [
    "matrix_1 = [[1,2],[3,4]]\n",
    "matrix_2 = [[5,6], [7,8]]\n",
    "result = [[0,0], [0,0]]\n",
    "for i in range(2):\n",
    "    for j in range(2):\n",
    "         result[i][j] = (matrix_1[i][0] * matrix_2[0][j] + matrix_1[i][1] * matrix_2[1][j])\n",
    "print(result)"
   ]
  },
  {
   "cell_type": "markdown",
   "id": "f2768c8f-979e-4b17-90f7-d8bfecca5873",
   "metadata": {},
   "source": [
    "**45. Flatten Nested List:** Write a Python program to flatten a given nested list and convert it into a single-dimensional list."
   ]
  },
  {
   "cell_type": "code",
   "execution_count": 4,
   "id": "6721a19c-c922-4032-9e9a-be64cd84db56",
   "metadata": {},
   "outputs": [
    {
     "name": "stdout",
     "output_type": "stream",
     "text": [
      "Flattened list: [10, 20, 30, 40, 50, 60, 70, 80, 90, 100]\n"
     ]
    }
   ],
   "source": [
    "nested_lst = [[10, 20, 30, 40], [50, 60, 70], [80, 90, 100]]\n",
    "flat_lst = []\n",
    "for element in nested_lst:\n",
    "    if type(element) is list:\n",
    "        for item in element:\n",
    "            flat_lst.append(item)\n",
    "    else:\n",
    "        flat_lst.append(element)\n",
    "print(f\"Flattened list: {flat_lst}\")"
   ]
  },
  {
   "cell_type": "markdown",
   "id": "679d5cce-9039-4f93-bfe1-6c0116709a09",
   "metadata": {},
   "source": [
    "**46. List Element Frequency:** Given a nested list containing lists of integers, write a Python program to count the frequency of each element in the entire nested list."
   ]
  },
  {
   "cell_type": "code",
   "execution_count": 11,
   "id": "d967478e-11fb-48ae-b2c9-e2b0fb209c89",
   "metadata": {},
   "outputs": [
    {
     "name": "stdout",
     "output_type": "stream",
     "text": [
      "Frequency of 70: 1\n",
      "Frequency of 40: 1\n",
      "Frequency of 10: 2\n",
      "Frequency of 80: 2\n",
      "Frequency of 50: 1\n",
      "Frequency of 20: 1\n",
      "Frequency of 90: 1\n",
      "Frequency of 60: 1\n",
      "Frequency of 30: 3\n"
     ]
    }
   ],
   "source": [
    "nested_lst = [[10, 10, 20, 30], [30, 30, 40, 50, 60], [70, 80, 80, 90]]\n",
    "flat_lst = [item for element in nested_lst for item in element]\n",
    "uniq_lst = set(flat_lst)\n",
    "for ele in uniq_lst:\n",
    "    count_of_ele = flat_lst.count(ele)\n",
    "    print(f\"Frequency of {ele}: {count_of_ele}\")"
   ]
  },
  {
   "cell_type": "markdown",
   "id": "86476201-fabb-44d0-9dd4-75f6efa2eba8",
   "metadata": {},
   "source": [
    "**47. Transpose Matrix:** Write a Python program to transpose a given matrix represented as a nested list."
   ]
  },
  {
   "cell_type": "code",
   "execution_count": 15,
   "id": "15b13b09-70ba-4d02-9c2b-bb79f07a1612",
   "metadata": {},
   "outputs": [
    {
     "name": "stdout",
     "output_type": "stream",
     "text": [
      "Transposed matrix: [[1, 4, 7], [2, 5, 8], [3, 6, 9]]\n"
     ]
    }
   ],
   "source": [
    "matrix = [[1, 2, 3], [4, 5, 6], [7, 8, 9]]\n",
    "transposed_matrix = [list(row) for row in zip(*matrix)]\n",
    "print(f\"Transposed matrix: {transposed_matrix}\")"
   ]
  },
  {
   "cell_type": "markdown",
   "id": "0abeb97a-c5b6-4611-88d1-5900e44e3fc1",
   "metadata": {},
   "source": [
    "**48. List of Lists Concatenation:** Given a list of nested lists, write a Python program to concatenate all the sublists into a single flat list."
   ]
  },
  {
   "cell_type": "code",
   "execution_count": 16,
   "id": "58d497ad-35ac-42ef-b098-4bf9b09d9745",
   "metadata": {},
   "outputs": [
    {
     "name": "stdout",
     "output_type": "stream",
     "text": [
      "Flat list: [10, 20, 30, 40, 50, 60, 70, 80, 90, 100]\n"
     ]
    }
   ],
   "source": [
    "nested_lst = [[10, 20, 30], [40, 50, 60], [70, 80, 90, 100]]\n",
    "flat_lst = [item for element in nested_lst for item in element]\n",
    "print(f\"Flat list: {flat_lst}\")"
   ]
  }
 ],
 "metadata": {
  "kernelspec": {
   "display_name": "Python 3 (ipykernel)",
   "language": "python",
   "name": "python3"
  },
  "language_info": {
   "codemirror_mode": {
    "name": "ipython",
    "version": 3
   },
   "file_extension": ".py",
   "mimetype": "text/x-python",
   "name": "python",
   "nbconvert_exporter": "python",
   "pygments_lexer": "ipython3",
   "version": "3.12.4"
  }
 },
 "nbformat": 4,
 "nbformat_minor": 5
}
