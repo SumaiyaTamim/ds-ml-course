{
 "cells": [
  {
   "cell_type": "markdown",
   "id": "1895a384-c189-47f8-aba3-fea7ba2d2917",
   "metadata": {},
   "source": [
    "**69. Duplicate Removal:** Write a Python program that takes a list of elements as input and creates a new set containing only the unique elements from the list."
   ]
  },
  {
   "cell_type": "code",
   "execution_count": 2,
   "id": "7ec5b04b-7572-49c7-b53b-216aba747468",
   "metadata": {},
   "outputs": [
    {
     "name": "stdin",
     "output_type": "stream",
     "text": [
      "Please enter a list of elements:  2 2 2 3 3 4 5\n"
     ]
    },
    {
     "name": "stdout",
     "output_type": "stream",
     "text": [
      "{2, 3, 4, 5}\n"
     ]
    }
   ],
   "source": [
    "lst = list(map(int, input(\"Please enter a list of elements: \").split()))\n",
    "print(set(lst))"
   ]
  },
  {
   "cell_type": "markdown",
   "id": "5c623d68-9efb-48c4-912e-160e63a835b6",
   "metadata": {},
   "source": [
    "**70. Set Intersection:** Given two sets A and B, write a Python program to find their intersection and print the common elements."
   ]
  },
  {
   "cell_type": "code",
   "execution_count": 3,
   "id": "941707dd-eea8-4874-85b7-4648fea8acd0",
   "metadata": {},
   "outputs": [
    {
     "name": "stdout",
     "output_type": "stream",
     "text": [
      "{4, 5}\n"
     ]
    }
   ],
   "source": [
    "set1 = {1, 2, 3, 4, 5}\n",
    "set2 = {4, 5, 6, 7}\n",
    "print(set1.intersection(set2))"
   ]
  },
  {
   "cell_type": "markdown",
   "id": "c219516a-807c-4111-89f2-62b354f66da4",
   "metadata": {},
   "source": [
    "**71. Set Union:** Given two sets A and B, write a Python program to find their union and print all the distinct elements from both sets."
   ]
  },
  {
   "cell_type": "code",
   "execution_count": 4,
   "id": "2fe2b434-1cff-4a35-afd0-0db95ebeec62",
   "metadata": {},
   "outputs": [
    {
     "name": "stdout",
     "output_type": "stream",
     "text": [
      "{1, 2, 3, 4, 5, 6, 7}\n"
     ]
    }
   ],
   "source": [
    "print(set1.union(set2))"
   ]
  },
  {
   "cell_type": "markdown",
   "id": "a8b53474-0645-451c-a539-335350d41712",
   "metadata": {},
   "source": [
    "**72. Set Difference:** Given two sets A and B, write a Python program to find the difference between set A and set B (i.e., elements present in A but not in B) and print the result."
   ]
  },
  {
   "cell_type": "code",
   "execution_count": 5,
   "id": "df627fc5-c86d-45c4-881e-45927c69b690",
   "metadata": {},
   "outputs": [
    {
     "name": "stdout",
     "output_type": "stream",
     "text": [
      "{1, 2, 3}\n"
     ]
    }
   ],
   "source": [
    "print(set1.difference(set2))"
   ]
  },
  {
   "cell_type": "markdown",
   "id": "7e9a62fd-9dc9-4238-ab70-937a72127edc",
   "metadata": {},
   "source": [
    "**73. Set Symmetric Difference:** Given two sets A and B, write a Python program to find the symmetric difference between the two sets (i.e., elements that are present in either set A or set B, but not in both) and print the result."
   ]
  },
  {
   "cell_type": "code",
   "execution_count": 7,
   "id": "cd0e0f02-38aa-4db7-ab97-8be3c0bee5f8",
   "metadata": {},
   "outputs": [
    {
     "name": "stdout",
     "output_type": "stream",
     "text": [
      "{1, 2, 3, 6, 7}\n"
     ]
    }
   ],
   "source": [
    "print(set1.symmetric_difference(set2))"
   ]
  },
  {
   "cell_type": "markdown",
   "id": "f0198ad2-3fc2-4c2c-ab43-84b7426b8fef",
   "metadata": {},
   "source": [
    "**74. Set Operations:** Given three sets A, B, and C, write a Python program to find and print the intersection of A and B, the union of B and C, and the difference between C and A."
   ]
  },
  {
   "cell_type": "code",
   "execution_count": 8,
   "id": "ffb1d475-942e-4f99-9e50-3b95a39d6758",
   "metadata": {},
   "outputs": [
    {
     "name": "stdout",
     "output_type": "stream",
     "text": [
      "Intersection of A and B: {4, 5}\n",
      "Union of B and C: {1, 2, 4, 5, 6, 7, 8}\n",
      "Difference between C and A: {6, 7}\n"
     ]
    }
   ],
   "source": [
    "A = {1, 2, 3, 4, 5}\n",
    "B = {4, 5, 6, 7, 8}\n",
    "C = {1, 2, 6, 7}\n",
    "print(f\"Intersection of A and B: {A.intersection(B)}\")\n",
    "print(f\"Union of B and C: {B.union(C)}\")\n",
    "print(f\"Difference between C and A: {C.difference(A)}\")"
   ]
  },
  {
   "cell_type": "markdown",
   "id": "a289430c-ed4c-4bce-b4fa-5fb14ddce05a",
   "metadata": {},
   "source": [
    "**75. Set Subset Check:** Given two sets A and B, write a Python program to check if set A is a subset of set B and print the result."
   ]
  },
  {
   "cell_type": "code",
   "execution_count": 9,
   "id": "e3f9c6c4-2507-4572-99a5-23deb04cd52a",
   "metadata": {},
   "outputs": [
    {
     "name": "stdout",
     "output_type": "stream",
     "text": [
      "False\n"
     ]
    }
   ],
   "source": [
    "print(A.issubset(B))"
   ]
  },
  {
   "cell_type": "markdown",
   "id": "8262224e-182b-459a-88b5-e1564faa05a9",
   "metadata": {},
   "source": [
    "**76. Set Superset Check:** Given two sets A and B, write a Python program to check if set A is a superset of set B and print the result."
   ]
  },
  {
   "cell_type": "code",
   "execution_count": 10,
   "id": "adc77bb1-3115-450d-bc8e-6b70ed16dde5",
   "metadata": {},
   "outputs": [
    {
     "name": "stdout",
     "output_type": "stream",
     "text": [
      "False\n"
     ]
    }
   ],
   "source": [
    "print(A.issuperset(B))"
   ]
  },
  {
   "cell_type": "markdown",
   "id": "c1e492f1-40ac-4c75-9811-cba8afdeefa2",
   "metadata": {},
   "source": [
    "**77. Set Length Check:** Write a Python program that takes a set as input and prints the number of elements in the set."
   ]
  },
  {
   "cell_type": "code",
   "execution_count": 12,
   "id": "acd3127a-4049-441a-84a7-a7010e27df4c",
   "metadata": {},
   "outputs": [
    {
     "name": "stdin",
     "output_type": "stream",
     "text": [
      "Please input a set of numbers:  1 2 3 4 5\n"
     ]
    },
    {
     "name": "stdout",
     "output_type": "stream",
     "text": [
      "5\n"
     ]
    }
   ],
   "source": [
    "user_input = input(\"Please input a set of numbers: \")\n",
    "set_input = {int(x) for x in user_input.split()}\n",
    "print(len(set_input))"
   ]
  },
  {
   "cell_type": "markdown",
   "id": "facae88f-4559-48fe-bb83-d9a051aa3402",
   "metadata": {},
   "source": [
    "**76. Set Membership Test:** Write a Python program that takes an element as input and checks if it exists in a given set. Print “Found” if the element is present and “Not Found” otherwise."
   ]
  },
  {
   "cell_type": "code",
   "execution_count": 13,
   "id": "457c9cbd-6e99-4757-b03d-72d280cec60f",
   "metadata": {},
   "outputs": [
    {
     "name": "stdin",
     "output_type": "stream",
     "text": [
      "Please input an element:  3\n"
     ]
    },
    {
     "name": "stdout",
     "output_type": "stream",
     "text": [
      "Found\n"
     ]
    }
   ],
   "source": [
    "given_set = {1, 2, 3, 4, 5}\n",
    "input_ele = int(input(\"Please input an element: \"))\n",
    "if input_ele in given_set:\n",
    "    print(\"Found\")\n",
    "else:\n",
    "    print(\"Not Found\")"
   ]
  }
 ],
 "metadata": {
  "kernelspec": {
   "display_name": "Python 3 (ipykernel)",
   "language": "python",
   "name": "python3"
  },
  "language_info": {
   "codemirror_mode": {
    "name": "ipython",
    "version": 3
   },
   "file_extension": ".py",
   "mimetype": "text/x-python",
   "name": "python",
   "nbconvert_exporter": "python",
   "pygments_lexer": "ipython3",
   "version": "3.12.4"
  }
 },
 "nbformat": 4,
 "nbformat_minor": 5
}
