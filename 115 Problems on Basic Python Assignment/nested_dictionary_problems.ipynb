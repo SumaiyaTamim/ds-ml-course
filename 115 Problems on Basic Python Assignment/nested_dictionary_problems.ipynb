{
 "cells": [
  {
   "cell_type": "markdown",
   "id": "178041d1-86f8-406e-a266-7b027a4a836a",
   "metadata": {},
   "source": [
    "**87. Access Nested Dictionary:** Given a nested dictionary containing student details, write a Python program to access and print specific information such as a student’s name, age, and address."
   ]
  },
  {
   "cell_type": "code",
   "execution_count": 1,
   "id": "7697a0e7-27ef-4ee5-8ae1-7b88b02b775e",
   "metadata": {},
   "outputs": [
    {
     "name": "stdout",
     "output_type": "stream",
     "text": [
      "Tamim\n",
      "19\n",
      "Sylhet\n"
     ]
    }
   ],
   "source": [
    "student_details_dict = {\n",
    "    \"student1\":{\n",
    "        \"name\": \"Tamim\",\n",
    "        \"age\": 18,\n",
    "        \"address\": \"Dhaka\"\n",
    "    },\n",
    "    \"student2\":{\n",
    "        \"name\": \"Sumaiya\",\n",
    "        \"age\": 19,\n",
    "        \"address\": \"Chittagong\"\n",
    "    },\n",
    "    \"student3\":{\n",
    "        \"name\": \"Tanisha\",\n",
    "        \"age\": 20,\n",
    "        \"address\": \"Sylhet\"\n",
    "    }\n",
    "}\n",
    "print(student_details_dict['student1']['name'])\n",
    "print(student_details_dict['student2']['age'])\n",
    "print(student_details_dict['student3']['address'])"
   ]
  },
  {
   "cell_type": "markdown",
   "id": "dfa71ef4-ef32-4f50-b2a2-b7dd5c6c124a",
   "metadata": {},
   "source": [
    "**88. Nested Dictionary Length:** Write a Python program to calculate and print the total number of key-value pairs in a nested dictionary."
   ]
  },
  {
   "cell_type": "code",
   "execution_count": 5,
   "id": "acec2fc5-f42b-45a3-8eae-5a5b33f870da",
   "metadata": {},
   "outputs": [
    {
     "name": "stdout",
     "output_type": "stream",
     "text": [
      "12\n"
     ]
    }
   ],
   "source": [
    "total_pairs = len(student_details_dict)\n",
    "for student in student_details_dict:\n",
    "    student_detail = student_details_dict[student]\n",
    "    total_pairs+= len(student_detail)\n",
    "print(total_pairs)"
   ]
  },
  {
   "cell_type": "markdown",
   "id": "68e9f29f-96dc-4587-9f0f-5a884c17b628",
   "metadata": {},
   "source": [
    "**89. Nested Dictionary Update:** Given a nested dictionary of employee details, write a Python program to update an employee’s salary based on their employee ID."
   ]
  },
  {
   "cell_type": "code",
   "execution_count": 11,
   "id": "d52754fc-dbb6-47d7-97ee-046b08d6dcf0",
   "metadata": {},
   "outputs": [
    {
     "name": "stdout",
     "output_type": "stream",
     "text": [
      "{'K0001': {'name': 'Tamim', 'salary': 10000}, 'K0002': {'name': 'Sumaiya', 'salary': 11000}}\n"
     ]
    }
   ],
   "source": [
    "employee_details = {\n",
    "    \"K0001\":{\n",
    "        \"name\": \"Tamim\",\n",
    "        \"salary\": 10000\n",
    "    },\n",
    "    \"K0002\":{\n",
    "        \"name\": \"Sumaiya\",\n",
    "        \"salary\": 12000\n",
    "    }\n",
    "}\n",
    "employee_details['K0002']['salary'] = 11000\n",
    "print(employee_details)"
   ]
  },
  {
   "cell_type": "markdown",
   "id": "7ca4d9ba-9d1f-4578-9422-02dc132300b9",
   "metadata": {},
   "source": [
    "**90. Nested Dictionary Sorting:** Given a nested dictionary containing product details (product name, price, and quantity), write a Python program to sort the products based on their prices in ascending order."
   ]
  },
  {
   "cell_type": "code",
   "execution_count": 13,
   "id": "958ab32d-11d3-444b-8321-8b8222b2e141",
   "metadata": {},
   "outputs": [
    {
     "name": "stdout",
     "output_type": "stream",
     "text": [
      "{'product2': {'name': 'sugar', 'price': 12, 'quantity': '100g'}, 'product3': {'name': 'bread', 'price': 14, 'quantity': '400g'}, 'product1': {'name': 'rice', 'price': 50, 'quantity': '1kg'}}\n"
     ]
    }
   ],
   "source": [
    "product_details = {\n",
    "    \"product1\":{\n",
    "        \"name\": \"rice\",\n",
    "        \"price\": 50,\n",
    "        \"quantity\": \"1kg\"\n",
    "    },\n",
    "    \"product2\":{\n",
    "        \"name\": \"sugar\",\n",
    "        \"price\": 12,\n",
    "        \"quantity\": \"100g\"\n",
    "    },\n",
    "    \"product3\":{\n",
    "        \"name\": \"bread\",\n",
    "        \"price\": 14,\n",
    "        \"quantity\": \"400g\"\n",
    "    }\n",
    "}\n",
    "sorted_by_price = dict(sorted(product_details.items(), key=lambda item: item[1]['price']))\n",
    "print(sorted_by_price)"
   ]
  },
  {
   "cell_type": "markdown",
   "id": "123b559b-bb80-48bb-a509-2eb06edb1f28",
   "metadata": {},
   "source": [
    "**91. Nested Dictionary Key Search:** Write a Python program that takes a key as input and searches for it in a nested dictionary. If found, print the corresponding value, otherwise, print “Key Not Found.”"
   ]
  },
  {
   "cell_type": "code",
   "execution_count": 25,
   "id": "e4a752f1-eac8-4741-923a-dc3ac5717392",
   "metadata": {},
   "outputs": [
    {
     "data": {
      "text/plain": [
       "{'name': 'rice', 'price': 50, 'quantity': '1kg'}"
      ]
     },
     "execution_count": 25,
     "metadata": {},
     "output_type": "execute_result"
    }
   ],
   "source": [
    "search_key = input(\"Please input the product key: \")\n",
    "if search_key in product_details:\n",
    "    for key, value in product_details[search_key].items():\n",
    "        print(f\"{}\")\n",
    "product_details['product1']"
   ]
  },
  {
   "cell_type": "code",
   "execution_count": null,
   "id": "618a40c0-a104-401d-8006-dd217d7a9829",
   "metadata": {},
   "outputs": [],
   "source": []
  }
 ],
 "metadata": {
  "kernelspec": {
   "display_name": "Python 3 (ipykernel)",
   "language": "python",
   "name": "python3"
  },
  "language_info": {
   "codemirror_mode": {
    "name": "ipython",
    "version": 3
   },
   "file_extension": ".py",
   "mimetype": "text/x-python",
   "name": "python",
   "nbconvert_exporter": "python",
   "pygments_lexer": "ipython3",
   "version": "3.12.4"
  }
 },
 "nbformat": 4,
 "nbformat_minor": 5
}
