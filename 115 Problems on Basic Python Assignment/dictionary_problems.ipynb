{
 "cells": [
  {
   "cell_type": "markdown",
   "id": "7f790332-0294-4aa9-8620-fc4430d04d19",
   "metadata": {},
   "source": [
    "**77. Dictionary Manipulation:** Given a dictionary with student names as keys and their corresponding scores as values, write a Python program to add a new student to the dictionary and update the score of an existing student."
   ]
  },
  {
   "cell_type": "code",
   "execution_count": 2,
   "id": "8f7b4feb-7c0e-48c9-9390-a83aab25fd8b",
   "metadata": {},
   "outputs": [
    {
     "name": "stdout",
     "output_type": "stream",
     "text": [
      "{'Tamim': 80, 'Sumaiya': 90, 'Tanisha': 85}\n",
      "{'Tamim': 80, 'Sumaiya': 92, 'Tanisha': 85}\n"
     ]
    }
   ],
   "source": [
    "score_dict = {\n",
    "    \"Tamim\": 80,\n",
    "    \"Sumaiya\": 90,\n",
    "}\n",
    "score_dict[\"Tanisha\"] = 85\n",
    "print(score_dict)\n",
    "score_dict.update({\"Sumaiya\": 92})\n",
    "print(score_dict)"
   ]
  },
  {
   "cell_type": "markdown",
   "id": "c1f8fce4-2cfe-464b-93ca-203348c1e4c8",
   "metadata": {},
   "source": [
    "**78. Dictionary Keys and Values:** Write a Python program that takes a dictionary as input and prints all the keys and values in separate lines."
   ]
  },
  {
   "cell_type": "code",
   "execution_count": 6,
   "id": "27c68417-4bb5-4334-8208-8d0b30492a6b",
   "metadata": {},
   "outputs": [
    {
     "name": "stdin",
     "output_type": "stream",
     "text": [
      "Enter a dictionary:  {'Tamim': 80, 'Sumaiya': 90, 'Tanisha': 85}\n"
     ]
    },
    {
     "name": "stdout",
     "output_type": "stream",
     "text": [
      "Tamim\n",
      "Sumaiya\n",
      "Tanisha\n",
      "80\n",
      "90\n",
      "85\n"
     ]
    }
   ],
   "source": [
    "user_input = input(\"Enter a dictionary: \")\n",
    "input_dict = eval(user_input)\n",
    "for key in input_dict.keys():\n",
    "    print(key)\n",
    "for value in input_dict.values():\n",
    "    print(value)"
   ]
  },
  {
   "cell_type": "markdown",
   "id": "fad8be34-0016-4ce4-8636-a7f45bed6652",
   "metadata": {},
   "source": [
    "**79. Dictionary Length:** Write a Python program to calculate and print the number of key-value pairs in a given dictionary."
   ]
  },
  {
   "cell_type": "code",
   "execution_count": 8,
   "id": "065a1894-8015-4036-8903-82b75bb3b3bc",
   "metadata": {},
   "outputs": [
    {
     "name": "stdout",
     "output_type": "stream",
     "text": [
      "2\n"
     ]
    }
   ],
   "source": [
    "score_dict = {\n",
    "    \"Tamim\": 80,\n",
    "    \"Sumaiya\": 90,\n",
    "}\n",
    "print(len(score_dict))"
   ]
  },
  {
   "cell_type": "markdown",
   "id": "18b71fd9-0bdd-4e30-bc12-eb75f6485870",
   "metadata": {},
   "source": [
    "**80. Dictionary Value Search:** Given a dictionary of items and their prices, write a Python program to search for an item based on its price and print the item’s name."
   ]
  },
  {
   "cell_type": "code",
   "execution_count": 13,
   "id": "59a03e09-5c03-433e-bc72-001e981bb862",
   "metadata": {},
   "outputs": [
    {
     "name": "stdout",
     "output_type": "stream",
     "text": [
      "chocolate\n"
     ]
    }
   ],
   "source": [
    "price_dict = {\n",
    "    \"milk\": 14,\n",
    "    \"chocolate\": 5,\n",
    "    \"cream\": 15\n",
    "}\n",
    "search_price = 5\n",
    "for item, price in price_dict.items():\n",
    "    if price == search_price:\n",
    "        print(item)\n",
    "    "
   ]
  },
  {
   "cell_type": "markdown",
   "id": "15b9998a-1b60-4453-a4ca-440a81732684",
   "metadata": {},
   "source": [
    "**81. Dictionary Merging:** Given two dictionaries, write a Python program to merge them into a single dictionary and print the result."
   ]
  },
  {
   "cell_type": "code",
   "execution_count": 1,
   "id": "44d0d7cf-251a-4f79-b5fb-bc669dafe7cc",
   "metadata": {},
   "outputs": [
    {
     "name": "stdout",
     "output_type": "stream",
     "text": [
      "{'a': 1, 'b': 2, 'c': 3, 'd': 4, 'e': 5}\n"
     ]
    }
   ],
   "source": [
    "dict1 = {'a': 1, 'b': 2, 'c': 3}\n",
    "dict2 = {'d': 4, 'e': 5}\n",
    "print(dict1 | dict2)"
   ]
  },
  {
   "cell_type": "markdown",
   "id": "d6f4e9e5-5922-4d83-bd4a-6530bbafde39",
   "metadata": {},
   "source": [
    "**82. Dictionary Key Removal:** Given a dictionary of items and their quantities, write a Python program to remove a specific item from the dictionary based on user input."
   ]
  },
  {
   "cell_type": "code",
   "execution_count": 2,
   "id": "b9b4b5da-25d0-4bcf-9071-2707590a4452",
   "metadata": {},
   "outputs": [
    {
     "name": "stdout",
     "output_type": "stream",
     "text": [
      "{'a': 1, 'b': 2}\n"
     ]
    }
   ],
   "source": [
    "del dict1['c']\n",
    "print(dict1)"
   ]
  },
  {
   "cell_type": "markdown",
   "id": "fab1a097-cde1-4e72-b880-dede43a99d80",
   "metadata": {},
   "source": [
    "**83. Dictionary Sorting:** Given a dictionary with names as keys and corresponding ages as values, write a Python program to sort the dictionary based on age in ascending order."
   ]
  },
  {
   "cell_type": "code",
   "execution_count": 4,
   "id": "d78e6ac0-d852-4ca1-8141-9c19347f628e",
   "metadata": {},
   "outputs": [
    {
     "name": "stdout",
     "output_type": "stream",
     "text": [
      "{'Tamim': 15, 'Tanisha': 18, 'Sumaiya': 20}\n"
     ]
    }
   ],
   "source": [
    "age_dict = {\"Tamim\": 15, 'Sumaiya': 20, 'Tanisha': 18}\n",
    "sorted_age = sorted(age_dict.items(), key=lambda kv:(kv[1], kv[0]))\n",
    "print(dict(sorted_age))"
   ]
  },
  {
   "cell_type": "markdown",
   "id": "df2d02c2-8432-4bd3-91b4-8fc578658f05",
   "metadata": {},
   "source": [
    "**84. Dictionary Frequency Count:** Write a Python program that takes a string as input and creates a dictionary containing each character as a key and its frequency as the value."
   ]
  },
  {
   "cell_type": "code",
   "execution_count": 5,
   "id": "a6f6d340-cf8d-406c-9efd-c9ff36e78d03",
   "metadata": {},
   "outputs": [
    {
     "name": "stdin",
     "output_type": "stream",
     "text": [
      "Please input a string:  hello\n"
     ]
    },
    {
     "name": "stdout",
     "output_type": "stream",
     "text": [
      "{'h': 1, 'e': 1, 'l': 2, 'o': 1}\n"
     ]
    }
   ],
   "source": [
    "freq_dict = {}\n",
    "user_input = input(\"Please input a string: \")\n",
    "for char in user_input:\n",
    "    if char in freq_dict:\n",
    "        freq_dict[char] += 1\n",
    "    else:\n",
    "        freq_dict[char] = 1\n",
    "print(freq_dict)"
   ]
  },
  {
   "cell_type": "markdown",
   "id": "8588972b-1aa9-47fb-a393-86e63b291115",
   "metadata": {},
   "source": [
    "**85. Dictionary Comprehension:** Given a list of integers, write a Python program to create a dictionary where the keys are the elements from the list, and the values are their squares."
   ]
  },
  {
   "cell_type": "code",
   "execution_count": 7,
   "id": "568bb734-b99a-4fae-97b6-a345556fa2d8",
   "metadata": {},
   "outputs": [
    {
     "name": "stdout",
     "output_type": "stream",
     "text": [
      "{1: 1, 2: 4, 3: 9, 4: 16, 5: 25}\n"
     ]
    }
   ],
   "source": [
    "numbers = [1, 2, 3, 4, 5]\n",
    "square_dict = {}\n",
    "for num in numbers:\n",
    "    square_dict[num] = num*num\n",
    "print(square_dict)"
   ]
  },
  {
   "cell_type": "markdown",
   "id": "144693ac-9ae7-442b-8132-00e4b3ac78e7",
   "metadata": {},
   "source": [
    "**86. Dictionary Key Check:** Write a Python program that takes a key as input and checks if it exists in a given dictionary. Print “Key Found” if the key is present and “Key Not Found” otherwise."
   ]
  },
  {
   "cell_type": "code",
   "execution_count": 8,
   "id": "30bb253f-e5bf-4c1f-a5a1-2f8b6ecf532c",
   "metadata": {},
   "outputs": [
    {
     "name": "stdin",
     "output_type": "stream",
     "text": [
      "Please input the key you want to check:  Tamim\n"
     ]
    },
    {
     "name": "stdout",
     "output_type": "stream",
     "text": [
      "Key Found\n"
     ]
    }
   ],
   "source": [
    "check = input(\"Please input the key you want to check: \")\n",
    "if check in age_dict:\n",
    "    print(\"Key Found\")\n",
    "else:\n",
    "    print(\"Key Not Found\")"
   ]
  }
 ],
 "metadata": {
  "kernelspec": {
   "display_name": "Python 3 (ipykernel)",
   "language": "python",
   "name": "python3"
  },
  "language_info": {
   "codemirror_mode": {
    "name": "ipython",
    "version": 3
   },
   "file_extension": ".py",
   "mimetype": "text/x-python",
   "name": "python",
   "nbconvert_exporter": "python",
   "pygments_lexer": "ipython3",
   "version": "3.12.4"
  }
 },
 "nbformat": 4,
 "nbformat_minor": 5
}
