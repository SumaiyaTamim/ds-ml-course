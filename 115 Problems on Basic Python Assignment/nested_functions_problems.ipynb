{
 "cells": [
  {
   "cell_type": "markdown",
   "id": "e37300bc-0893-42db-a438-408c3fc9b018",
   "metadata": {},
   "source": [
    "**108. Math Operations:** Write a Python function called `math_operations` that takes three numbers and a string representing an operation (‘add’, ‘subtract’, ‘multiply’, or ‘divide’). The function should return the result of the specified operation on the three numbers. Implement the math operations as nested functions."
   ]
  },
  {
   "cell_type": "code",
   "execution_count": 7,
   "id": "63879536-c8ff-4aa7-968d-c7fb1d44895d",
   "metadata": {},
   "outputs": [
    {
     "name": "stdout",
     "output_type": "stream",
     "text": [
      "12\n",
      "4\n",
      "24\n",
      "1.0\n"
     ]
    }
   ],
   "source": [
    "def math_operations(num1, num2, num3, operation):\n",
    "    def add(num1, num2, num3):\n",
    "        return num1 + num2 + num3\n",
    "    def subtract(num1, num2, num3):\n",
    "        return num1 - num2 - num3\n",
    "    def multiply(num1, num2, num3):\n",
    "        return num1*num2*num3\n",
    "    def divide(num1, num2, num3):\n",
    "        return num1/num2/num3\n",
    "        \n",
    "    if operation == 'add':\n",
    "        return add(num1, num2, num3)\n",
    "    elif operation == 'subtract':\n",
    "        return subtract(num1, num2, num3)\n",
    "    elif operation == 'multiply':\n",
    "        return multiply(num1, num2, num3)\n",
    "    elif operation == 'divide':\n",
    "        return divide(num1, num2, num3)\n",
    "    else:\n",
    "        return \"Invalid operation. Choose 'add', 'subtract', 'multiply', or 'divide'\"\n",
    "        \n",
    "print(math_operations(2, 4, 6, 'add'))      \n",
    "print(math_operations(10, 2, 4, 'subtract')) \n",
    "print(math_operations(2, 3, 4, 'multiply'))  \n",
    "print(math_operations(10, 5, 2, 'divide')) "
   ]
  },
  {
   "cell_type": "markdown",
   "id": "8804eb27-f62b-4d6c-969b-3e23a79aedfb",
   "metadata": {},
   "source": [
    "**109. Greeting Generator:** Write a Python function called `greeting_generator` that takes a name as input and returns a greeting message using nested functions. The greeting message should be customizable (e.g., “Hello, {name}! How are you today?”)."
   ]
  },
  {
   "cell_type": "code",
   "execution_count": 10,
   "id": "bf48ef31-be30-4b01-b583-50aa55cd4301",
   "metadata": {},
   "outputs": [
    {
     "name": "stdout",
     "output_type": "stream",
     "text": [
      "Hello, Tamim!\n",
      "Hello, Tamim! How are you today?\n",
      "Hello, Tamim! It's a pleasure to see you!\n"
     ]
    }
   ],
   "source": [
    "def greeting_generator(name, style):\n",
    "    def simple_greet():\n",
    "        return f\"Hello, {name}!\"\n",
    "    def friendly_greet():\n",
    "        return f\"Hello, {name}! How are you today?\"\n",
    "    def formal_greet():\n",
    "        return f\"Hello, {name}! It's a pleasure to see you!\"\n",
    "        \n",
    "    if style == 'simple':\n",
    "        return simple_greet()\n",
    "    elif style == 'friendly':\n",
    "        return friendly_greet()\n",
    "    elif style == 'formal':\n",
    "        return formal_greet()\n",
    "    else:\n",
    "        return \"Invalid style\"\n",
    "        \n",
    "print(greeting_generator('Tamim', 'simple'))\n",
    "print(greeting_generator('Tamim', 'friendly'))\n",
    "print(greeting_generator('Tamim', 'formal'))"
   ]
  },
  {
   "cell_type": "markdown",
   "id": "134300d3-17a9-4aad-b923-46cb504d8b40",
   "metadata": {},
   "source": [
    "**110. Temperature Converter:** Write a Python function called `temperature_converter` that takes a temperature value and a string representing the scale (‘C’ for Celsius or ‘F’ for Fahrenheit) as input. The function should convert the temperature from one scale to the other using nested functions and return the converted value."
   ]
  },
  {
   "cell_type": "code",
   "execution_count": 15,
   "id": "48bd444b-572e-4dbc-96df-d4d0c0852d00",
   "metadata": {},
   "outputs": [
    {
     "name": "stdout",
     "output_type": "stream",
     "text": [
      "154.4\n",
      "100.0\n"
     ]
    }
   ],
   "source": [
    "def temperature_converter(temperature, scale):\n",
    "    def toFahrenheit():\n",
    "        fahrenheit = (temperature * 9/5) + 32\n",
    "        return fahrenheit\n",
    "    def toCelsius():\n",
    "        celsius = (temperature - 32) * 5/9\n",
    "        return celsius\n",
    "    if scale == 'F':\n",
    "        return toFahrenheit()\n",
    "    else:\n",
    "        return toCelsius()\n",
    "print(temperature_converter(68, 'F'))   \n",
    "print(temperature_converter(212, 'C'))  "
   ]
  }
 ],
 "metadata": {
  "kernelspec": {
   "display_name": "Python 3 (ipykernel)",
   "language": "python",
   "name": "python3"
  },
  "language_info": {
   "codemirror_mode": {
    "name": "ipython",
    "version": 3
   },
   "file_extension": ".py",
   "mimetype": "text/x-python",
   "name": "python",
   "nbconvert_exporter": "python",
   "pygments_lexer": "ipython3",
   "version": "3.12.4"
  }
 },
 "nbformat": 4,
 "nbformat_minor": 5
}
