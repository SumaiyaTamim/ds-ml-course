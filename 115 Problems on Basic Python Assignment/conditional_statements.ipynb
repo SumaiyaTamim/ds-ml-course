{
 "cells": [
  {
   "cell_type": "markdown",
   "id": "ae0b4589-22b0-408b-819e-76fa6f024ac1",
   "metadata": {},
   "source": [
    "**11. Positive, Negative, or Zero:** Write a Python program that takes a number as input and prints whether it is positive, negative, or zero."
   ]
  },
  {
   "cell_type": "code",
   "execution_count": 3,
   "id": "1cb67e51-7cb6-42b0-ad93-b25b705b6df3",
   "metadata": {},
   "outputs": [
    {
     "name": "stdin",
     "output_type": "stream",
     "text": [
      "Please input a number:  0\n"
     ]
    },
    {
     "name": "stdout",
     "output_type": "stream",
     "text": [
      "The number is zero\n"
     ]
    }
   ],
   "source": [
    "number = int(input(\"Please input a number: \"))\n",
    "if(number > 0):\n",
    "    print(\"The number is positive\")\n",
    "elif(number < 0):\n",
    "    print(\"The number is negative\")\n",
    "else:\n",
    "    print(\"The number is zero\")"
   ]
  },
  {
   "cell_type": "markdown",
   "id": "e87603f3-a5fc-4905-9112-19991ce5979d",
   "metadata": {},
   "source": [
    "**12. Largest of Three Numbers:** Write a Python program that takes three numbers as input and prints the largest among them."
   ]
  },
  {
   "cell_type": "code",
   "execution_count": 10,
   "id": "18177a0f-4f4d-41da-bf6a-5170f829cb20",
   "metadata": {},
   "outputs": [
    {
     "name": "stdin",
     "output_type": "stream",
     "text": [
      "Please enter three numbers:  10 5 20\n"
     ]
    },
    {
     "name": "stdout",
     "output_type": "stream",
     "text": [
      "The largest number is: 20\n"
     ]
    }
   ],
   "source": [
    "num1, num2, num3 = map(int, input(\"Please enter three numbers: \").split())\n",
    "print(\"The largest number is: \" + str(max(num1, num2, num3)))"
   ]
  },
  {
   "cell_type": "markdown",
   "id": "67821d3f-384f-4818-9bc0-4528b48f2168",
   "metadata": {},
   "source": [
    "**13. Leap Year Checker:** Write a Python program that takes a year as input and determines if it is a leap year or not."
   ]
  },
  {
   "cell_type": "code",
   "execution_count": 12,
   "id": "2783d70e-ab6f-4063-8917-a0327f7173b5",
   "metadata": {},
   "outputs": [
    {
     "name": "stdin",
     "output_type": "stream",
     "text": [
      "Please input a year:  2004\n"
     ]
    },
    {
     "name": "stdout",
     "output_type": "stream",
     "text": [
      "2004 is a leap year\n"
     ]
    }
   ],
   "source": [
    "year = int(input(\"Please input a year: \"))\n",
    "if (year % 4 == 0 and year % 100 != 0) or (year % 400 == 0):\n",
    "    print(f\"{year} is a leap year\")\n",
    "else:\n",
    "    print(f\"{year} is not a leap year\")"
   ]
  },
  {
   "cell_type": "markdown",
   "id": "9867695b-c4f6-431e-af39-4fc8b30df04c",
   "metadata": {},
   "source": [
    "**14. Grades Classification:** Write a Python program that takes a student’s percentage as input and prints their corresponding grade according to the following criteria: – 90% or above: A+ – 80-89%: A – 70-79%: B – 60-69%: C – Below 60%: Fail"
   ]
  },
  {
   "cell_type": "code",
   "execution_count": 21,
   "id": "42373a92-f66a-43f6-8f0b-9a5fe99189d7",
   "metadata": {},
   "outputs": [
    {
     "name": "stdin",
     "output_type": "stream",
     "text": [
      "Please input a grade percentage:  30%\n"
     ]
    },
    {
     "name": "stdout",
     "output_type": "stream",
     "text": [
      "Fail\n"
     ]
    }
   ],
   "source": [
    "grade = (input(\"Please input a grade percentage: \"))\n",
    "grade = int(grade.replace(\"%\", \"\"))\n",
    "if(grade >= 90):\n",
    "    print(\"A+\")\n",
    "elif(grade >= 80):\n",
    "    print(\"A\")\n",
    "elif(grade >= 70):\n",
    "    print(\"B\")\n",
    "elif(grade >= 60):\n",
    "    print(\"C\")\n",
    "else: \n",
    "    print(\"Fail\")\n"
   ]
  },
  {
   "cell_type": "markdown",
   "id": "1c4b17b6-6be1-4d54-a66d-56d065b5ab2f",
   "metadata": {},
   "source": [
    "**15. Vowel or Consonant:** Write a Python program that takes a single character as input and determines whether it is a vowel or a consonant."
   ]
  },
  {
   "cell_type": "code",
   "execution_count": 24,
   "id": "2293b78c-96c0-4fa2-99b6-638def4ceaba",
   "metadata": {},
   "outputs": [
    {
     "name": "stdin",
     "output_type": "stream",
     "text": [
      "Please input a character:  z\n"
     ]
    },
    {
     "name": "stdout",
     "output_type": "stream",
     "text": [
      "The character is a consonant\n"
     ]
    }
   ],
   "source": [
    "list_of_vowels = ['a','b','c','d','e']\n",
    "char = input(\"Please input a character: \")\n",
    "if char in list_of_vowels:\n",
    "    print(\"The character is a vowel\")\n",
    "else:\n",
    "    print(\"The character is a consonant\")"
   ]
  },
  {
   "cell_type": "markdown",
   "id": "c5841ebe-222f-4ae7-9b77-15ad6bf4869d",
   "metadata": {},
   "source": [
    "**16. Time Classification:** Write a Python program that takes the time in hours (24-hour format) as input and prints “Good Morning”, “Good Afternoon”, “Good Evening”, or “Good Night” based on the time."
   ]
  },
  {
   "cell_type": "code",
   "execution_count": 26,
   "id": "ccdf5837-5bef-433f-b971-f82c84201468",
   "metadata": {},
   "outputs": [
    {
     "name": "stdin",
     "output_type": "stream",
     "text": [
      "Please enter a time in hours(24-hour format):  11\n"
     ]
    },
    {
     "name": "stdout",
     "output_type": "stream",
     "text": [
      "Good Morning\n"
     ]
    }
   ],
   "source": [
    "time = int(input(\"Please enter a time in hours(24-hour format): \"))\n",
    "if 5 <= time < 12:\n",
    "    print(\"Good Morning\")\n",
    "elif 12 <= time < 17:\n",
    "    print(\"Good Afternoon\")\n",
    "elif 17 <= time < 21:\n",
    "    print(\"Good Evening\")\n",
    "else:\n",
    "    print(\"Good Night\")"
   ]
  },
  {
   "cell_type": "markdown",
   "id": "90d71b82-bbc9-4a7c-b726-75923e6df4fd",
   "metadata": {},
   "source": [
    "**17. Triangle Type Checker:** Write a Python program that takes three sides of a triangle as input and determines whether it forms an equilateral, isosceles, or scalene triangle."
   ]
  },
  {
   "cell_type": "code",
   "execution_count": 32,
   "id": "f85604b5-3b24-405e-bbcd-8590ed861c7c",
   "metadata": {},
   "outputs": [
    {
     "name": "stdin",
     "output_type": "stream",
     "text": [
      "Enter the values of three sides of a triangle 3 3 3\n"
     ]
    },
    {
     "name": "stdout",
     "output_type": "stream",
     "text": [
      "The sides form an equilateral triangle\n"
     ]
    }
   ],
   "source": [
    "a, b, c = map(int, input(\"Enter the values of three sides of a triangle\").split())\n",
    "if(a == b == c):\n",
    "    print(\"The sides form an equilateral triangle\")\n",
    "elif(a != b != c):\n",
    "    print(\"The sides form a scalene triangle\")\n",
    "elif(a == b or b == c or c == a):\n",
    "    print(\"The sides form an isosceles triangle\")\n",
    "    "
   ]
  },
  {
   "cell_type": "markdown",
   "id": "b3688839-40da-4693-8a2f-32d2ae8d9a29",
   "metadata": {},
   "source": [
    "**18. Quadratic Equation Solver:** Write a Python program that takes the coefficients (a, b, c) of a quadratic equation as input and calculates and prints the real roots (if they exist) or a message indicating the complex roots."
   ]
  },
  {
   "cell_type": "code",
   "execution_count": 48,
   "id": "bc09be30-11b5-4f6b-a0db-fbcc692801d9",
   "metadata": {},
   "outputs": [
    {
     "name": "stdin",
     "output_type": "stream",
     "text": [
      "Enter the coefficients of the quadratic equation:  1 2 5\n"
     ]
    },
    {
     "name": "stdout",
     "output_type": "stream",
     "text": [
      "The complex roots are: -1.0+2.0i, -1.0-2.0i\n"
     ]
    }
   ],
   "source": [
    "import math\n",
    "a, b, c = map(float, input(\"Enter the coefficients of the quadratic equation: \").split())\n",
    "dis = b**2-4*a*c\n",
    "sqrt = math.sqrt(abs(dis))\n",
    "if(a == 0):\n",
    "    print(\"The roots do not exist\")\n",
    "else:\n",
    "    if dis > 0:\n",
    "        print(f\"The real and different roots are: {(-b + sqrt)/2*a}, {(-b - sqrt)/2*a}\")\n",
    "    elif dis == 0:\n",
    "        print(f\"The real and same roots are: {-b/2*a}, {-b/2*a}\")\n",
    "    else:\n",
    "        print(f\"The complex roots are: {-b/(2*a)}+{sqrt/(2*a)}i, {-b/(2*a)}-{sqrt/(2*a)}i\")\n",
    "\n",
    "    \n",
    "    \n"
   ]
  },
  {
   "cell_type": "markdown",
   "id": "ee175fba-4588-411a-9408-485a9773c099",
   "metadata": {},
   "source": [
    "**19. Number Ranges:** Write a Python program that takes an integer as input and prints whether the number falls within the ranges: 0-50, 51-100, 101-150, or above 150."
   ]
  },
  {
   "cell_type": "code",
   "execution_count": 52,
   "id": "6ddd16f2-8ae4-434f-8652-9333abcdbbf9",
   "metadata": {},
   "outputs": [
    {
     "name": "stdin",
     "output_type": "stream",
     "text": [
      "Please input a number:  170\n"
     ]
    },
    {
     "name": "stdout",
     "output_type": "stream",
     "text": [
      "The number is above 150\n"
     ]
    }
   ],
   "source": [
    "number = int(input(\"Please input a number: \"))\n",
    "if(0<= number <= 50):\n",
    "    print(\"The number fall within the 0-50 range\")\n",
    "elif(51<= number <= 100):\n",
    "    print(\"The number fall within the 51-100 range\")\n",
    "if(101<= number <= 150):\n",
    "    print(\"The number fall within the 101-150 range\")\n",
    "elif(number > 150):\n",
    "    print(\"The number is above 150\")"
   ]
  }
 ],
 "metadata": {
  "kernelspec": {
   "display_name": "Python 3 (ipykernel)",
   "language": "python",
   "name": "python3"
  },
  "language_info": {
   "codemirror_mode": {
    "name": "ipython",
    "version": 3
   },
   "file_extension": ".py",
   "mimetype": "text/x-python",
   "name": "python",
   "nbconvert_exporter": "python",
   "pygments_lexer": "ipython3",
   "version": "3.12.4"
  }
 },
 "nbformat": 4,
 "nbformat_minor": 5
}
