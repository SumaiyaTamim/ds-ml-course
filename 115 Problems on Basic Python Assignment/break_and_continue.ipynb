{
 "cells": [
  {
   "cell_type": "markdown",
   "id": "b417abc4-3761-4ca2-bfbc-e87e3c6d5ed2",
   "metadata": {},
   "source": [
    "**92. Prime Number Checker:** Write a Python program that takes a number as input and determines if it is a prime number or not. Use a `for` loop to check for factors. If a factor is found, `break` out of the loop."
   ]
  },
  {
   "cell_type": "code",
   "execution_count": 1,
   "id": "27891ea5-96e0-4ca4-91e2-8d0667294fac",
   "metadata": {},
   "outputs": [
    {
     "name": "stdin",
     "output_type": "stream",
     "text": [
      "Please input a number:  5\n"
     ]
    },
    {
     "name": "stdout",
     "output_type": "stream",
     "text": [
      "5 is a prime number\n"
     ]
    }
   ],
   "source": [
    "number = int(input(\"Please input a number: \"))\n",
    "if number <= 1:\n",
    "    print(f\"{number} is not a prime number\")\n",
    "elif number == 2:\n",
    "    print(f\"{number} is a prime number\")\n",
    "elif number % 2 == 0:\n",
    "    print(f\"{number} is not a prime number\")\n",
    "else:\n",
    "    is_prime = True\n",
    "    for i in range(3, int(number**0.5)+1, 2):\n",
    "        if number % i == 0:\n",
    "            is_prime = False\n",
    "            break\n",
    "    if is_prime:\n",
    "        print(f\"{number} is a prime number\")\n",
    "    else:\n",
    "        print(f\"{number} is not a prime number\")"
   ]
  },
  {
   "cell_type": "markdown",
   "id": "5eded7a1-0156-49b3-8ccf-fd9f5284ef63",
   "metadata": {},
   "source": [
    "**93. Even Number Printer:** Write a Python program to print all even numbers from 1 to 20. Use a `for` loop and `continue` to skip odd numbers."
   ]
  },
  {
   "cell_type": "code",
   "execution_count": 2,
   "id": "39f514c2-cc81-4e34-8794-b2b7470691ed",
   "metadata": {},
   "outputs": [
    {
     "name": "stdout",
     "output_type": "stream",
     "text": [
      "2\n",
      "4\n",
      "6\n",
      "8\n",
      "10\n",
      "12\n",
      "14\n",
      "16\n",
      "18\n",
      "20\n"
     ]
    }
   ],
   "source": [
    "for i in range(1, 21):\n",
    "    if i%2 != 0:\n",
    "        continue\n",
    "    else:\n",
    "        print(i)\n",
    "        "
   ]
  },
  {
   "cell_type": "markdown",
   "id": "7ffe0062-179f-4d39-a192-253b202ae4c4",
   "metadata": {},
   "source": [
    "**94. Password Validator:** Write a Python program that takes a password as input and checks if it meets the following criteria: at least 8 characters long, contains both uppercase and lowercase letters, and has at least one digit. If the password is valid, print “Password accepted.” If not, use `continue` to prompt the user to enter a valid password."
   ]
  },
  {
   "cell_type": "code",
   "execution_count": 4,
   "id": "2bda1aac-d31a-479c-818a-04e1cf4c2855",
   "metadata": {},
   "outputs": [
    {
     "name": "stdin",
     "output_type": "stream",
     "text": [
      "Please enter your password:  Tamim10\n"
     ]
    },
    {
     "name": "stdout",
     "output_type": "stream",
     "text": [
      "Password must be at least 8 characters long\n"
     ]
    },
    {
     "name": "stdin",
     "output_type": "stream",
     "text": [
      "Please enter your password:  TamimSumaiya10\n"
     ]
    },
    {
     "name": "stdout",
     "output_type": "stream",
     "text": [
      "Password accepted\n"
     ]
    }
   ],
   "source": [
    "while True:\n",
    "    password = input(\"Please enter your password: \")\n",
    "    if len(password) < 8:\n",
    "        print(\"Password must be at least 8 characters long\")\n",
    "        continue\n",
    "    has_upper = False\n",
    "    has_lower = False\n",
    "    has_digit = False\n",
    "    for char in password:\n",
    "        if char.isupper():\n",
    "            has_upper = True\n",
    "        elif char.islower():\n",
    "            has_lower = True\n",
    "        elif char.isdigit():\n",
    "            has_digit = True\n",
    "    if not has_upper:\n",
    "        print(\"Password must contan at least one uppercase letter\")\n",
    "        continue\n",
    "    if not has_lower:\n",
    "        print(\"Password must contain at least one lowercase letter\")\n",
    "        continue\n",
    "    if not has_digit:\n",
    "        print(\"Password must contain at least one digit\")\n",
    "        continue\n",
    "    print(\"Password accepted\")\n",
    "    break"
   ]
  },
  {
   "cell_type": "markdown",
   "id": "75b9875f-7ac5-4ddf-ab6f-9f35c32544ce",
   "metadata": {},
   "source": [
    "**95. Divisible by 3 or 5:** Write a Python program to print all numbers from 1 to 50 that are divisible by either 3 or 5. Use a `for` loop and `continue` to skip numbers that are not divisible by either 3 or 5."
   ]
  },
  {
   "cell_type": "code",
   "execution_count": 5,
   "id": "eccfa171-09ae-4b1e-8a83-1ef0c14663e2",
   "metadata": {},
   "outputs": [
    {
     "name": "stdout",
     "output_type": "stream",
     "text": [
      "3\n",
      "5\n",
      "6\n",
      "9\n",
      "10\n",
      "12\n",
      "15\n",
      "18\n",
      "20\n",
      "21\n",
      "24\n",
      "25\n",
      "27\n",
      "30\n",
      "33\n",
      "35\n",
      "36\n",
      "39\n",
      "40\n",
      "42\n",
      "45\n",
      "48\n",
      "50\n"
     ]
    }
   ],
   "source": [
    "for i in range(1, 51):\n",
    "    if (i%3 == 0) or (i%5 == 0):\n",
    "        print(i)\n",
    "    else:\n",
    "        continue"
   ]
  },
  {
   "cell_type": "markdown",
   "id": "74b9e94e-af66-4e89-9add-af7ef0a4c8cb",
   "metadata": {},
   "source": [
    "**96. Positive Number Sum:** Write a Python program that takes positive numbers as input until a negative number is entered. Then, calculate and print the sum of all positive numbers entered. Use a `while` loop and `break` to exit the loop when a negative number is encountered."
   ]
  },
  {
   "cell_type": "code",
   "execution_count": 7,
   "id": "b9533cef-0240-4948-9313-dfcf3f9f4eb3",
   "metadata": {},
   "outputs": [
    {
     "name": "stdin",
     "output_type": "stream",
     "text": [
      "Please input a number:  1\n",
      "Please input a number:  2\n",
      "Please input a number:  3\n",
      "Please input a number:  4\n",
      "Please input a number:  -1\n"
     ]
    },
    {
     "name": "stdout",
     "output_type": "stream",
     "text": [
      "The sum of all positive numbers: 10\n"
     ]
    }
   ],
   "source": [
    "total = 0\n",
    "while True:\n",
    "    user_input = int(input(\"Please input a number: \"))\n",
    "    if user_input < 0:\n",
    "        break\n",
    "    else:\n",
    "        total += user_input\n",
    "print(f\"The sum of all positive numbers: {total}\")"
   ]
  },
  {
   "cell_type": "markdown",
   "id": "e71fe431-40a0-4638-83d1-5132ff1e1d4d",
   "metadata": {},
   "source": [
    "**97. Word Palindrome Checker:** Write a Python program that takes a word as input and checks if it is a palindrome (reads the same forwards and backward). Use `continue` to skip checking the word if its length is less than 3 characters."
   ]
  },
  {
   "cell_type": "code",
   "execution_count": 2,
   "id": "f855fda0-3151-410f-aa5e-33c8e133c6a1",
   "metadata": {},
   "outputs": [
    {
     "name": "stdin",
     "output_type": "stream",
     "text": [
      "Please input a word:  madam\n"
     ]
    },
    {
     "name": "stdout",
     "output_type": "stream",
     "text": [
      "The word is a palindrome!\n"
     ]
    },
    {
     "name": "stdin",
     "output_type": "stream",
     "text": [
      "Please input a word:  hello\n"
     ]
    },
    {
     "name": "stdout",
     "output_type": "stream",
     "text": [
      "The word is not a palindrome\n"
     ]
    },
    {
     "name": "stdin",
     "output_type": "stream",
     "text": [
      "Please input a word:  exit\n"
     ]
    }
   ],
   "source": [
    "while True:\n",
    "    word = input(\"Please input a word: \")\n",
    "    if word == \"exit\":\n",
    "        break\n",
    "    if len(word) < 3:\n",
    "        continue\n",
    "    if word == word[::-1]:\n",
    "        print(\"The word is a palindrome!\")\n",
    "    else:\n",
    "        print(\"The word is not a palindrome\")"
   ]
  },
  {
   "cell_type": "markdown",
   "id": "32d828e3-4f01-43be-adde-503c5a91fc39",
   "metadata": {},
   "source": [
    "**98. Odd Number Finder:** Write a Python program to find the first odd number from a list of integers. Use a `for` loop and `break` to stop the loop when the first odd number is found."
   ]
  },
  {
   "cell_type": "code",
   "execution_count": 3,
   "id": "d5c79508-4dc9-45d3-8d3b-64bd3389f9e3",
   "metadata": {},
   "outputs": [
    {
     "name": "stdout",
     "output_type": "stream",
     "text": [
      "The first odd number: 3\n"
     ]
    }
   ],
   "source": [
    "lst_of_integers = [2, 3, 4, 5]\n",
    "for ele in lst_of_integers:\n",
    "    if ele % 2 == 0:\n",
    "        continue\n",
    "    else:\n",
    "        print(f\"The first odd number: {ele}\")\n",
    "        break"
   ]
  },
  {
   "cell_type": "markdown",
   "id": "28e4e055-1a38-4eb0-aefc-11b9aa2d1d55",
   "metadata": {},
   "source": [
    "**99. Number Guessing Game:** Write a Python program that generates a random number between 1 and 100 and lets the user guess the number. Use a `while` loop, `break` when the correct number is guessed, and `continue` to keep prompting the user until they guess correctly."
   ]
  },
  {
   "cell_type": "code",
   "execution_count": 7,
   "id": "2c093513-507d-42b8-9f94-35c095d9354a",
   "metadata": {},
   "outputs": [
    {
     "name": "stdout",
     "output_type": "stream",
     "text": [
      "85\n"
     ]
    },
    {
     "name": "stdin",
     "output_type": "stream",
     "text": [
      "Guess a number:  10\n"
     ]
    },
    {
     "name": "stdout",
     "output_type": "stream",
     "text": [
      "Incorrect! Please try again!\n"
     ]
    },
    {
     "name": "stdin",
     "output_type": "stream",
     "text": [
      "Guess a number:  15\n"
     ]
    },
    {
     "name": "stdout",
     "output_type": "stream",
     "text": [
      "Incorrect! Please try again!\n"
     ]
    },
    {
     "name": "stdin",
     "output_type": "stream",
     "text": [
      "Guess a number:  85\n"
     ]
    },
    {
     "name": "stdout",
     "output_type": "stream",
     "text": [
      "You guessed it correctly!\n"
     ]
    }
   ],
   "source": [
    "import random\n",
    "random_number= random.randint(1, 100)\n",
    "print(random_number)\n",
    "while True:\n",
    "    guess_number = int(input(\"Guess a number: \"))\n",
    "    if guess_number == random_number:\n",
    "        print(\"You guessed it correctly!\")\n",
    "        break\n",
    "    else:\n",
    "        print(\"Incorrect! Please try again!\")\n",
    "        continue"
   ]
  },
  {
   "cell_type": "markdown",
   "id": "0830d9c1-1239-4aaa-9b7f-fb662c5f2fc6",
   "metadata": {},
   "source": [
    "**100. Vowel Counter:** Write a Python program that takes a string as input and counts the number of vowels (a, e, i, o, u) in it. Use a `for` loop and `continue` to skip counting non-vowel characters."
   ]
  },
  {
   "cell_type": "code",
   "execution_count": 8,
   "id": "d817b862-fe38-417d-861e-4c7545795f39",
   "metadata": {},
   "outputs": [
    {
     "name": "stdin",
     "output_type": "stream",
     "text": [
      "Please input a word:  hello\n"
     ]
    },
    {
     "name": "stdout",
     "output_type": "stream",
     "text": [
      "2\n"
     ]
    }
   ],
   "source": [
    "word = input(\"Please input a word: \")\n",
    "total_vowels = 0\n",
    "list_of_vowels = ['a', 'e', 'i', 'o', 'u']\n",
    "for i in list_of_vowels:\n",
    "    if i not in word:\n",
    "        continue\n",
    "    else:\n",
    "        total_vowels+= 1\n",
    "print(total_vowels)"
   ]
  },
  {
   "cell_type": "markdown",
   "id": "98445286-6f0b-465f-b213-c9c67c7155e2",
   "metadata": {},
   "source": [
    "**101. Unique Characters:** Write a Python program that takes a string as input and checks if it contains all unique characters (no character repeats). Use a `for` loop and `break` when a character repeats."
   ]
  },
  {
   "cell_type": "code",
   "execution_count": 20,
   "id": "9ef1cbcf-7d53-414d-b0c7-df038259ea8c",
   "metadata": {},
   "outputs": [
    {
     "name": "stdin",
     "output_type": "stream",
     "text": [
      "Please input a word:  hello\n"
     ]
    },
    {
     "name": "stdout",
     "output_type": "stream",
     "text": [
      "The word has character repeats\n"
     ]
    }
   ],
   "source": [
    "word = input(\"Please input a word: \")\n",
    "uniq_chars = []\n",
    "has_repeats = False\n",
    "for char in word:\n",
    "    if char in uniq_chars:\n",
    "        has_repeats = True\n",
    "        break\n",
    "    else:\n",
    "        uniq_chars.append(char)\n",
    "if has_repeats:\n",
    "    print(\"The word has character repeats\")\n",
    "else:\n",
    "    print(\"The word does not have character repeats\")"
   ]
  }
 ],
 "metadata": {
  "kernelspec": {
   "display_name": "Python 3 (ipykernel)",
   "language": "python",
   "name": "python3"
  },
  "language_info": {
   "codemirror_mode": {
    "name": "ipython",
    "version": 3
   },
   "file_extension": ".py",
   "mimetype": "text/x-python",
   "name": "python",
   "nbconvert_exporter": "python",
   "pygments_lexer": "ipython3",
   "version": "3.12.4"
  }
 },
 "nbformat": 4,
 "nbformat_minor": 5
}
