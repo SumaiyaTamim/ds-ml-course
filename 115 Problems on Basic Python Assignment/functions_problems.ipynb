{
 "cells": [
  {
   "cell_type": "markdown",
   "id": "30f3d4c2-0e64-4e05-aa71-77d87ed7c29b",
   "metadata": {},
   "source": [
    "**102. Factorial Calculator:** Write a Python function called `factorial` that takes an integer as input and returns its factorial. Test the function with different values."
   ]
  },
  {
   "cell_type": "code",
   "execution_count": 5,
   "id": "8b195d8f-c08f-4186-a23c-b733d976a38e",
   "metadata": {},
   "outputs": [
    {
     "name": "stdout",
     "output_type": "stream",
     "text": [
      "120\n",
      "24\n",
      "6\n",
      "2\n"
     ]
    }
   ],
   "source": [
    "def factorial(num):\n",
    "    factorial = 1\n",
    "    for i in range(1, num+1):\n",
    "        factorial*= i\n",
    "    print(factorial)\n",
    "factorial(5)\n",
    "factorial(4)\n",
    "factorial(3)\n",
    "factorial(2)"
   ]
  },
  {
   "cell_type": "markdown",
   "id": "ae4f25c2-9c12-4748-8b7c-d460c10c1d51",
   "metadata": {},
   "source": [
    "**103. Palindrome Checker:** Write a Python function called `is_palindrome` that takes a string as input and returns `True` if it is a palindrome and `False` otherwise. Test the function with different words."
   ]
  },
  {
   "cell_type": "code",
   "execution_count": 11,
   "id": "b316e5e9-207c-4ebd-8052-f727386da234",
   "metadata": {},
   "outputs": [
    {
     "name": "stdout",
     "output_type": "stream",
     "text": [
      "False\n",
      "True\n"
     ]
    }
   ],
   "source": [
    "def is_palindrome(word):\n",
    "    if word == word[::-1]:\n",
    "        return True\n",
    "    else:\n",
    "        return False\n",
    "print(is_palindrome(\"hello\"))\n",
    "print(is_palindrome(\"madam\"))"
   ]
  },
  {
   "cell_type": "markdown",
   "id": "089ac2cb-4440-4680-b8f0-f082c119068c",
   "metadata": {},
   "source": [
    "**104. Even or Odd Checker:** Write a Python function called `even_or_odd` that takes an integer as input and returns “Even” if the number is even and “Odd” if the number is odd. Test the function with different numbers."
   ]
  },
  {
   "cell_type": "code",
   "execution_count": 12,
   "id": "c40c771f-6b54-477a-a06c-3a009f52c9ec",
   "metadata": {},
   "outputs": [
    {
     "name": "stdout",
     "output_type": "stream",
     "text": [
      "Odd\n",
      "Even\n",
      "Odd\n"
     ]
    }
   ],
   "source": [
    "def even_or_odd(num):\n",
    "    if num % 2 == 0:\n",
    "        return \"Even\"\n",
    "    else:\n",
    "        return \"Odd\"\n",
    "print(even_or_odd(1))\n",
    "print(even_or_odd(2))\n",
    "print(even_or_odd(3))"
   ]
  },
  {
   "cell_type": "markdown",
   "id": "042e612f-d946-4ad1-87a4-48b4baa39aac",
   "metadata": {},
   "source": [
    "**105. List Sum Calculator:** Write a Python function called `list_sum` that takes a list of integers as input and returns the sum of all elements in the list. Test the function with different lists."
   ]
  },
  {
   "cell_type": "code",
   "execution_count": 15,
   "id": "4c26b437-326c-4075-81fb-b3b111f72dea",
   "metadata": {},
   "outputs": [
    {
     "name": "stdin",
     "output_type": "stream",
     "text": [
      "Please input a list of integers:  1 2 3 4 5\n"
     ]
    },
    {
     "name": "stdout",
     "output_type": "stream",
     "text": [
      "15\n"
     ]
    }
   ],
   "source": [
    "def list_sum():\n",
    "    user_input = list(map(int, input(\"Please input a list of integers: \").split()))\n",
    "    addition = sum(user_input)\n",
    "    return addition\n",
    "print(list_sum())"
   ]
  },
  {
   "cell_type": "markdown",
   "id": "2cec5938-e3c9-44ef-bad1-ee8d614bce54",
   "metadata": {},
   "source": [
    "**106. Greatest Common Divisor (GCD) Calculator:** Write a Python function called `gcd` that takes two integers as input and returns their greatest common divisor. Test the function with different pairs of numbers."
   ]
  },
  {
   "cell_type": "code",
   "execution_count": 16,
   "id": "cea56c54-c607-4b11-ad00-12a0d9f1e8ce",
   "metadata": {},
   "outputs": [
    {
     "name": "stdout",
     "output_type": "stream",
     "text": [
      "2\n",
      "6\n",
      "2\n"
     ]
    }
   ],
   "source": [
    "import math\n",
    "def gcd(num1, num2):\n",
    "    return math.gcd(num1, num2)\n",
    "print(gcd(2,4))\n",
    "print(gcd(6,12))\n",
    "print(gcd(18,22))"
   ]
  },
  {
   "cell_type": "markdown",
   "id": "46daf936-1355-4ea5-b0b0-bebd76038f50",
   "metadata": {},
   "source": [
    "**107. Leap Year Checker:** Write a Python function called `is_leap_year` that takes a year as input and returns `True` if it is a leap year and `False` otherwise. Test the function with different years."
   ]
  },
  {
   "cell_type": "code",
   "execution_count": 17,
   "id": "2e309c74-3753-47a2-bf4c-1984de6503b4",
   "metadata": {},
   "outputs": [
    {
     "name": "stdout",
     "output_type": "stream",
     "text": [
      "False\n",
      "True\n",
      "True\n"
     ]
    }
   ],
   "source": [
    "def is_leap_year(year):\n",
    "    if (year % 4 == 0 and year % 100 != 0) or (year % 400 == 0):\n",
    "        return True\n",
    "    else:\n",
    "        return False\n",
    "print(is_leap_year(2002))\n",
    "print(is_leap_year(2004))\n",
    "print(is_leap_year(2008))"
   ]
  }
 ],
 "metadata": {
  "kernelspec": {
   "display_name": "Python 3 (ipykernel)",
   "language": "python",
   "name": "python3"
  },
  "language_info": {
   "codemirror_mode": {
    "name": "ipython",
    "version": 3
   },
   "file_extension": ".py",
   "mimetype": "text/x-python",
   "name": "python",
   "nbconvert_exporter": "python",
   "pygments_lexer": "ipython3",
   "version": "3.12.4"
  }
 },
 "nbformat": 4,
 "nbformat_minor": 5
}
