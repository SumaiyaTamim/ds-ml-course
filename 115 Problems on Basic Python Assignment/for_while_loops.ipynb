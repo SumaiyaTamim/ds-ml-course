{
 "cells": [
  {
   "cell_type": "markdown",
   "id": "b3fb2bcd-fe38-49de-a7ec-65b5928280a9",
   "metadata": {},
   "source": [
    "**20. Sum of N Numbers:** Write a Python program using a for loop to calculate the sum of the first N natural numbers, where N is taken as input from the user."
   ]
  },
  {
   "cell_type": "code",
   "execution_count": null,
   "id": "35e78e66-4c51-4c5c-b601-5569b087987d",
   "metadata": {},
   "outputs": [],
   "source": [
    "N = int(input(\"Please input a number: \"))\n",
    "sum = 0\n",
    "for i in range(1, N+1):\n",
    "    sum+= i\n",
    "print(f\"The sum of the first {N} natural numbers is: {sum}\")"
   ]
  },
  {
   "cell_type": "markdown",
   "id": "6c371bb1-f884-4c46-8804-351b7b6aae39",
   "metadata": {},
   "source": [
    "**21. Factorial Calculator:** Write a Python program using a while loop to calculate the factorial of a given number N."
   ]
  },
  {
   "cell_type": "code",
   "execution_count": null,
   "id": "12861a3b-9e5e-44e2-8a1f-25adc50b3347",
   "metadata": {},
   "outputs": [],
   "source": [
    "inp = int(input(\"Please input a number: \"))\n",
    "N = inp\n",
    "factorial = 1\n",
    "while(N > 1):\n",
    "    factorial*=N\n",
    "    N-=1\n",
    "print(f\"The factorial of {inp} is: {factorial}\")"
   ]
  },
  {
   "cell_type": "markdown",
   "id": "40bf2615-b100-419e-856c-35f52345ab5f",
   "metadata": {},
   "source": [
    "**22. Table of a Number:** Write a Python program using a for loop to print the multiplication table of a given number N."
   ]
  },
  {
   "cell_type": "code",
   "execution_count": null,
   "id": "3f8a2063-c7ee-45ca-97c0-a5b82224ac2e",
   "metadata": {},
   "outputs": [],
   "source": [
    "N = int(input(\"Please input a number: \"))\n",
    "for i in range(10):\n",
    "    product = N*i\n",
    "    print(f\"{N} X {i} = {product}\")"
   ]
  },
  {
   "cell_type": "markdown",
   "id": "46c18702-a78b-4273-9f3a-98ba81543928",
   "metadata": {},
   "source": [
    "**23. Count Digits in a Number:** Write a Python program using a while loop to count the number of digits in a given integer N."
   ]
  },
  {
   "cell_type": "code",
   "execution_count": null,
   "id": "9bbbfba7-867b-4555-9107-1869b516312c",
   "metadata": {},
   "outputs": [],
   "source": [
    "N = int(input(\"Please input a number: \"))\n",
    "count = 0\n",
    "while(N!=0):\n",
    "    N//=10\n",
    "    count+=1\n",
    "print(f\"The number of digits in the given integer is: {count}\")"
   ]
  },
  {
   "cell_type": "markdown",
   "id": "c9803780-2c2c-43ec-8834-e805cb0d366e",
   "metadata": {},
   "source": [
    "**24. Fibonacci Sequence:** Write a Python program using a for loop to generate the Fibonacci sequence up to a given limit N."
   ]
  },
  {
   "cell_type": "code",
   "execution_count": null,
   "id": "f0bed0dc-f44b-4578-91ec-2ad563cbc5c7",
   "metadata": {},
   "outputs": [],
   "source": [
    "limit = int(input(\"Please input a limit for your fibonacci sequence: \"))\n",
    "fibo = [0, 1]\n",
    "\n",
    "while fibo[-1] < limit:\n",
    "    next_num = fibo[-1] + fibo[-2]\n",
    "    fibo.append(next_num)\n",
    "    \n",
    "if fibo[-1] > limit:\n",
    "    fibo = fibo[:-1]\n",
    "    \n",
    "print(\", \".join(map(str, fibo)))"
   ]
  },
  {
   "cell_type": "markdown",
   "id": "d99a30e9-aee0-4b17-a0c4-c0146eefb6e0",
   "metadata": {},
   "source": [
    "**25. Sum of Even Numbers:** Write a Python program using a while loop to calculate the sum of all even numbers between 1 and N, where N is taken as input from the user."
   ]
  },
  {
   "cell_type": "code",
   "execution_count": 2,
   "id": "d6b1e3c6-8bde-4dba-9130-dc5ae42954b2",
   "metadata": {},
   "outputs": [
    {
     "name": "stdin",
     "output_type": "stream",
     "text": [
      "Please input a number:  10\n"
     ]
    },
    {
     "name": "stdout",
     "output_type": "stream",
     "text": [
      "20\n"
     ]
    }
   ],
   "source": [
    "N = int(input(\"Please input a number: \"))\n",
    "even_num = []\n",
    "i = 1\n",
    "while(i < N):\n",
    "    if i % 2 == 0:\n",
    "        even_num.append(i)\n",
    "    i+=1\n",
    "numeric_even_num = [int(x) for x in even_num]\n",
    "sum_even_num = sum(numeric_even_num)\n",
    "print(sum_even_num)"
   ]
  },
  {
   "cell_type": "markdown",
   "id": "0e838f04-1005-4f07-9b62-64cbc7a57250",
   "metadata": {},
   "source": [
    "**26. Print Patterns:** Write a Python program using nested for loops to print various patterns, such as a right-angled triangle, an inverted right-angled triangle, and so on."
   ]
  },
  {
   "cell_type": "code",
   "execution_count": 13,
   "id": "6cc3090c-fcc5-4f2f-b93a-e4a77d8e853c",
   "metadata": {},
   "outputs": [
    {
     "name": "stdin",
     "output_type": "stream",
     "text": [
      "Enter a number:  5\n"
     ]
    },
    {
     "name": "stdout",
     "output_type": "stream",
     "text": [
      "right-angled triangle:\n",
      "* \n",
      "* * \n",
      "* * * \n",
      "* * * * \n",
      "* * * * * \n",
      "inverted right-angled triangle:\n",
      "* * * * * \n",
      "* * * * \n",
      "* * * \n",
      "* * \n",
      "* \n",
      "pyramid:\n",
      "    *\n",
      "   ***\n",
      "  *****\n",
      " *******\n",
      "*********\n",
      "diamond:\n",
      "    *\n",
      "   ***\n",
      "  *****\n",
      " *******\n",
      "*********\n",
      " *******\n",
      "  *****\n",
      "   ***\n",
      "    *\n"
     ]
    }
   ],
   "source": [
    "n = int(input(\"Enter a number: \"))\n",
    "print(\"right-angled triangle:\")\n",
    "for i in range(1, n+1):\n",
    "    for j in range(i):\n",
    "        print(\"*\", end=\" \")\n",
    "    print()\n",
    "        \n",
    "print(\"inverted right-angled triangle:\")\n",
    "for i in range(n, 0, -1):\n",
    "    for j in range(i):\n",
    "        print(\"*\", end=\" \")\n",
    "    print()\n",
    "    \n",
    "print(\"pyramid:\")\n",
    "for i in range(1, n + 1):\n",
    "    print(\" \" * (n - i), end=\"\")  \n",
    "    print(\"*\" * (2 * i - 1)) \n",
    "\n",
    "print(\"diamond:\")\n",
    "for i in range(1, n + 1):\n",
    "    print(\" \" * (n - i), end=\"\")\n",
    "    print(\"*\" * (2 * i - 1))\n",
    "for i in range(n - 1, 0, -1):\n",
    "    print(\" \" * (n - i), end=\"\")\n",
    "    print(\"*\" * (2 * i - 1))"
   ]
  },
  {
   "cell_type": "markdown",
   "id": "883840d0-f3f0-4a96-b3a3-d4b7c5a2eae2",
   "metadata": {},
   "source": [
    "**27. Prime Number Checker:** Write a Python program using a while loop to check if a given number N is prime or not."
   ]
  },
  {
   "cell_type": "code",
   "execution_count": 19,
   "id": "baf12b8e-0d4e-4c8b-a7ac-db425a925d4e",
   "metadata": {},
   "outputs": [
    {
     "name": "stdin",
     "output_type": "stream",
     "text": [
      "Please input a number:  17\n"
     ]
    },
    {
     "name": "stdout",
     "output_type": "stream",
     "text": [
      "The given number is a prime number\n"
     ]
    }
   ],
   "source": [
    "N = int(input(\"Please input a number: \"))\n",
    "is_prime = False\n",
    "if N == 0 or N == 1:\n",
    "    print(\"The given number is not a prime number\")\n",
    "elif N > 1:\n",
    "    for i in range(2, N):\n",
    "        if N % i == 0:\n",
    "            is_prime = True\n",
    "            break\n",
    "    if is_prime:\n",
    "        print(\"The given number is not a prime number\")\n",
    "    else:\n",
    "        print(\"The given number is a prime number\")"
   ]
  },
  {
   "cell_type": "markdown",
   "id": "f91ee38b-196c-4688-ae53-c81151b4ea51",
   "metadata": {},
   "source": [
    "**28. List Manipulation:** Given a list of integers, write a Python program using a for loop to find the sum, average, maximum, and minimum values in the list."
   ]
  },
  {
   "cell_type": "code",
   "execution_count": 37,
   "id": "939eb491-ace6-4269-963f-18a8d74fd723",
   "metadata": {},
   "outputs": [
    {
     "name": "stdin",
     "output_type": "stream",
     "text": [
      "Please input a list of numbers:  1 2 3 4\n"
     ]
    },
    {
     "name": "stdout",
     "output_type": "stream",
     "text": [
      "sum: 10\n",
      "average: 2.5\n",
      "maximum: 4\n",
      "minimum: 1 \n"
     ]
    }
   ],
   "source": [
    "lst = list(map(int, input(\"Please input a list of numbers: \").split()))\n",
    "addition = 0\n",
    "for num in lst:  \n",
    "    addition += num\n",
    "print(f\"sum: {addition}\")\n",
    "avg = addition/len(lst)\n",
    "print(f\"average: {avg}\")\n",
    "\n",
    "max = lst[0]\n",
    "for num in lst:\n",
    "    if num > max:\n",
    "        max = num\n",
    "print(f\"maximum: {max}\")\n",
    "min = lst[-1]\n",
    "for num in lst:\n",
    "    if num < min:\n",
    "        min = num\n",
    "print(f\"minimum: {min} \")\n",
    "        "
   ]
  },
  {
   "cell_type": "markdown",
   "id": "82486039-1f37-4bae-b8e5-e6f70be032c8",
   "metadata": {},
   "source": [
    "**29. Reverse String:** Write a Python program using a while loop to reverse a given string."
   ]
  },
  {
   "cell_type": "code",
   "execution_count": 43,
   "id": "8b9d10e1-326c-40f2-9ef3-ff3353ff1d7e",
   "metadata": {},
   "outputs": [
    {
     "name": "stdin",
     "output_type": "stream",
     "text": [
      "Please input a string:  hello\n"
     ]
    },
    {
     "name": "stdout",
     "output_type": "stream",
     "text": [
      "olleh\n"
     ]
    }
   ],
   "source": [
    "word = input(\"Please input a string: \")\n",
    "reversed_word = \"\"\n",
    "index = len(word)-1\n",
    "while index >= 0:\n",
    "    reversed_word+= word[index]\n",
    "    index-= 1\n",
    "print(reversed_word)"
   ]
  }
 ],
 "metadata": {
  "kernelspec": {
   "display_name": "Python 3 (ipykernel)",
   "language": "python",
   "name": "python3"
  },
  "language_info": {
   "codemirror_mode": {
    "name": "ipython",
    "version": 3
   },
   "file_extension": ".py",
   "mimetype": "text/x-python",
   "name": "python",
   "nbconvert_exporter": "python",
   "pygments_lexer": "ipython3",
   "version": "3.12.4"
  }
 },
 "nbformat": 4,
 "nbformat_minor": 5
}
