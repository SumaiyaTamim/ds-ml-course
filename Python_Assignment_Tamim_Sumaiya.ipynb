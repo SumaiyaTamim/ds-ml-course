{
  "cells": [
    {
      "cell_type": "markdown",
      "id": "9818ffc8",
      "metadata": {
        "id": "9818ffc8"
      },
      "source": [
        "# Python Practice Problems"
      ]
    },
    {
      "cell_type": "markdown",
      "id": "92c96f2f",
      "metadata": {
        "id": "92c96f2f"
      },
      "source": [
        "### 1. Find the Largest of Two Numbers\n",
        "**Task:** Given two numbers, find the larger one.  \n",
        "**Demo Input:**  5 and 6 <br>\n",
        "**Output:** 6\n"
      ]
    },
    {
      "cell_type": "code",
      "execution_count": null,
      "id": "15c848cf",
      "metadata": {
        "id": "15c848cf",
        "outputId": "2c72f0e3-c289-4981-952e-c71df9ce3a73",
        "colab": {
          "base_uri": "https://localhost:8080/"
        }
      },
      "outputs": [
        {
          "output_type": "stream",
          "name": "stdout",
          "text": [
            "Please input your first number: 40\n",
            "Please input your second number: 45\n",
            "45\n"
          ]
        }
      ],
      "source": [
        "num1 = int(input(\"Please input your first number: \"))\n",
        "num2 = int(input(\"Please input your second number: \"))\n",
        "print(max(num1, num2))"
      ]
    },
    {
      "cell_type": "markdown",
      "id": "c8c1c683",
      "metadata": {
        "id": "c8c1c683"
      },
      "source": [
        "### 2. Print Numbers from 1 to N\n",
        "**Task**: Given a number `n`, print all numbers from 1 to `n`. <br>\n",
        "**Demo Input**: `5`  <br>\n",
        "**Demo Output**:  1 2 3 4 5\n"
      ]
    },
    {
      "cell_type": "code",
      "execution_count": null,
      "id": "4f9f4529",
      "metadata": {
        "id": "4f9f4529",
        "outputId": "a83bed15-ba9c-43d7-e53e-663c24117031",
        "colab": {
          "base_uri": "https://localhost:8080/"
        }
      },
      "outputs": [
        {
          "output_type": "stream",
          "name": "stdout",
          "text": [
            "Please input a number: 5\n",
            "1 2 3 4 5 "
          ]
        }
      ],
      "source": [
        "n = int(input(\"Please input a number: \"))\n",
        "for i in range(1, n+1):\n",
        "  print(i, end = ' ')"
      ]
    },
    {
      "cell_type": "markdown",
      "id": "899df468",
      "metadata": {
        "id": "899df468"
      },
      "source": [
        "### 3. Check if a Number is Positive or Negative\n",
        "**Task**: Determine if the input number is positive, negative, or zero.  \n",
        "**Demo Input**: `-3`  \n",
        "**Demo Output**: `The number is Negative`"
      ]
    },
    {
      "cell_type": "code",
      "execution_count": null,
      "id": "56ae285e",
      "metadata": {
        "id": "56ae285e",
        "outputId": "772f3ab7-1678-4ff1-96cc-bc9acc27bcac",
        "colab": {
          "base_uri": "https://localhost:8080/"
        }
      },
      "outputs": [
        {
          "output_type": "stream",
          "name": "stdout",
          "text": [
            "Please input a number: 0\n",
            "The number is Zero.\n"
          ]
        }
      ],
      "source": [
        "n = int(input(\"Please input a number: \"))\n",
        "if n > 0:\n",
        "  print(\"The number is Positive.\")\n",
        "elif n < 0:\n",
        "  print(\"The number is Negative.\")\n",
        "else:\n",
        "  print(\"The number is Zero.\")\n"
      ]
    },
    {
      "cell_type": "markdown",
      "id": "9d865d12",
      "metadata": {
        "id": "9d865d12"
      },
      "source": [
        "### 4. Calculate the Sum of Digits\n",
        "**Task**: Given a number, find the sum of its digits.  \n",
        "**Demo Input**: `123`  \n",
        "**Demo Output**: `6`  \n",
        "(Explanation: `1+2+3=6`)"
      ]
    },
    {
      "cell_type": "code",
      "execution_count": null,
      "id": "c28b2c6c",
      "metadata": {
        "id": "c28b2c6c",
        "outputId": "5dd29da6-2b4f-4507-925f-7d6edf525dc9",
        "colab": {
          "base_uri": "https://localhost:8080/"
        }
      },
      "outputs": [
        {
          "output_type": "stream",
          "name": "stdout",
          "text": [
            "Please input a number: 32\n",
            "5\n"
          ]
        }
      ],
      "source": [
        "n = input(\"Please input a number: \")\n",
        "sum = 0\n",
        "for digit in n:\n",
        "  sum+= int(digit)\n",
        "print(sum)"
      ]
    },
    {
      "cell_type": "markdown",
      "id": "a970046f",
      "metadata": {
        "id": "a970046f"
      },
      "source": [
        "### 5. Find Factorial of a Number\n",
        "**Task**: Calculate the factorial of a given number.  \n",
        "**Demo Input**: `4`  \n",
        "**Demo Output**: `24`  \n",
        "(Explanation: `4! = 4*3*2*1 = 24`)"
      ]
    },
    {
      "cell_type": "code",
      "execution_count": null,
      "id": "fd5966d2",
      "metadata": {
        "id": "fd5966d2",
        "outputId": "f6110fe0-22fa-45b0-d746-b629c48f3014",
        "colab": {
          "base_uri": "https://localhost:8080/"
        }
      },
      "outputs": [
        {
          "output_type": "stream",
          "name": "stdout",
          "text": [
            "Please input a number: 6\n",
            "720\n"
          ]
        }
      ],
      "source": [
        "\n",
        "n = int(input(\"Please input a number: \"))\n",
        "fact = 1\n",
        "for i in range(1, n+1):\n",
        "  fact*=i\n",
        "print(fact)\n"
      ]
    },
    {
      "cell_type": "markdown",
      "id": "c8798099",
      "metadata": {
        "id": "c8798099"
      },
      "source": [
        "### 6. Count Occurrences of a Digit\n",
        "**Task**: Count how many times a specific digit appears max in a number.  \n",
        "**Demo Input**:  1233321 <br>\n",
        "**Demo Output**: `3`  <br>\n",
        "(Explanation: `3` appears 3 times in `1233321`)"
      ]
    },
    {
      "cell_type": "code",
      "source": [
        "number = input(\"Please input a number: \")\n",
        "counts = [0] * 10\n",
        "for digit in number:\n",
        "    counts[int(digit)] += 1\n",
        "max_count = max(counts)\n",
        "max_digit = counts.index(max_count)\n",
        "print(f\"{max_digit} appears {max_count} times in {number}\")"
      ],
      "metadata": {
        "colab": {
          "base_uri": "https://localhost:8080/"
        },
        "id": "0pzNbYXHBUWN",
        "outputId": "1366c418-d42d-4bb4-b48a-b9bd65ed7fea"
      },
      "id": "0pzNbYXHBUWN",
      "execution_count": null,
      "outputs": [
        {
          "output_type": "stream",
          "name": "stdout",
          "text": [
            "Please input a number: 1233321\n",
            "3 appears 3 times in 1233321\n"
          ]
        }
      ]
    },
    {
      "cell_type": "markdown",
      "id": "b7f985bc",
      "metadata": {
        "id": "b7f985bc"
      },
      "source": [
        "### 7. Find the GCD of Two Numbers\n",
        "**Task**: Find the greatest common divisor (GCD) of two numbers.  \n",
        "**Demo Input**: 8 and 12 <br>\n",
        "**Demo Output**: `4`"
      ]
    },
    {
      "cell_type": "code",
      "execution_count": 1,
      "id": "a467887d",
      "metadata": {
        "id": "a467887d",
        "colab": {
          "base_uri": "https://localhost:8080/"
        },
        "outputId": "5f409448-ed7a-4c16-abb4-07aad07fda6e"
      },
      "outputs": [
        {
          "output_type": "stream",
          "name": "stdout",
          "text": [
            "Plase input number 1: 8\n",
            "Please input number 2: 12\n",
            "4\n"
          ]
        }
      ],
      "source": [
        "import math\n",
        "num1 = int(input(\"Plase input number 1: \"))\n",
        "num2 = int(input(\"Please input number 2: \"))\n",
        "print(math.gcd(num1, num2))"
      ]
    },
    {
      "cell_type": "markdown",
      "id": "14c6a2fd",
      "metadata": {
        "id": "14c6a2fd"
      },
      "source": [
        "### 8. Reverse a String\n",
        "**Task**: Reverse the given string.  \n",
        "**Demo Input**: `\"aiquest\"`  \n",
        "**Demo Output**: `\"tseuqia\"`"
      ]
    },
    {
      "cell_type": "code",
      "execution_count": 2,
      "id": "bd22e158",
      "metadata": {
        "id": "bd22e158",
        "colab": {
          "base_uri": "https://localhost:8080/"
        },
        "outputId": "daea95ae-5e35-4958-9981-30d9b6aa2acf"
      },
      "outputs": [
        {
          "output_type": "stream",
          "name": "stdout",
          "text": [
            "Please input a word: aiquest\n",
            "tseuqia\n"
          ]
        }
      ],
      "source": [
        "string = input(\"Please input a word: \")\n",
        "print(string[::-1])"
      ]
    },
    {
      "cell_type": "markdown",
      "id": "88317dfd",
      "metadata": {
        "id": "88317dfd"
      },
      "source": [
        "### 9. Check Armstrong Number\n",
        "**Task**: Check if a number is an Armstrong number (the sum of its digits raised to the power of the number of digits equals the number).  \n",
        "**Demo Input**: `153`  \n",
        "**Demo Output**: `153 is an Armstrong Number`  \n",
        "(Explanation: \\(1^3 + 5^3 + 3^3 = 153\\))"
      ]
    },
    {
      "cell_type": "code",
      "execution_count": 3,
      "id": "2602ff94",
      "metadata": {
        "id": "2602ff94",
        "colab": {
          "base_uri": "https://localhost:8080/"
        },
        "outputId": "e9ad8ed0-fafe-4259-b58b-25a49b46e93f"
      },
      "outputs": [
        {
          "output_type": "stream",
          "name": "stdout",
          "text": [
            "Please input a number: 153\n",
            "153 is an Armstrong Number\n"
          ]
        }
      ],
      "source": [
        "number = input(\"Please input a number: \")\n",
        "length = len(number)\n",
        "sum = 0\n",
        "for digit in str(number):\n",
        "  sum+= pow(int(digit), length)\n",
        "if(sum == int(number)):\n",
        "  print(number+\" is an Armstrong Number\")\n",
        "else:\n",
        "  print(number+ \" is not an Armstrong Number\")"
      ]
    },
    {
      "cell_type": "markdown",
      "id": "0905a3cc",
      "metadata": {
        "id": "0905a3cc"
      },
      "source": [
        "### 10. Generate a Pattern\n",
        "**Task**: Print a pyramid pattern with `n` rows.  \n",
        "**Demo input:** 4 <br>\n",
        "**Output:** You will see the pyramid pattern with 4 rows"
      ]
    },
    {
      "cell_type": "code",
      "execution_count": 5,
      "id": "83d8b483",
      "metadata": {
        "id": "83d8b483",
        "colab": {
          "base_uri": "https://localhost:8080/"
        },
        "outputId": "d0acc254-426e-488d-d1bd-77b894c14147"
      },
      "outputs": [
        {
          "output_type": "stream",
          "name": "stdout",
          "text": [
            "Please enter the number of rows: 4\n",
            "   * \n",
            "  * * \n",
            " * * * \n",
            "* * * * \n"
          ]
        }
      ],
      "source": [
        "n = int(input(\"Please enter the number of rows: \"))\n",
        "for i in range(n):\n",
        "  for j in range(n-i-1):\n",
        "    print(\" \", end=\"\")\n",
        "  for j in range(i+1):\n",
        "    print(\"*\", end= \" \")\n",
        "  print()"
      ]
    },
    {
      "cell_type": "markdown",
      "id": "ec723917",
      "metadata": {
        "id": "ec723917"
      },
      "source": [
        "# Good Luck!"
      ]
    }
  ],
  "metadata": {
    "kernelspec": {
      "display_name": "Python 3 (ipykernel)",
      "language": "python",
      "name": "python3"
    },
    "language_info": {
      "codemirror_mode": {
        "name": "ipython",
        "version": 3
      },
      "file_extension": ".py",
      "mimetype": "text/x-python",
      "name": "python",
      "nbconvert_exporter": "python",
      "pygments_lexer": "ipython3",
      "version": "3.9.13"
    },
    "colab": {
      "provenance": []
    }
  },
  "nbformat": 4,
  "nbformat_minor": 5
}